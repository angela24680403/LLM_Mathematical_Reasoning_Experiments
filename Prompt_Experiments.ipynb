{
  "cells": [
    {
      "cell_type": "markdown",
      "metadata": {
        "id": "9QKKPLtWM3yW"
      },
      "source": [
        "### Installation"
      ]
    },
    {
      "cell_type": "code",
      "execution_count": 40,
      "metadata": {
        "id": "-fQCE759M3yW"
      },
      "outputs": [],
      "source": [
        "%%capture\n",
        "import os\n",
        "if \"COLAB_\" not in \"\".join(os.environ.keys()):\n",
        "    !pip install unsloth vllm\n",
        "else:\n",
        "    # [NOTE] Do the below ONLY in Colab! Use [[pip install unsloth vllm]]\n",
        "    !pip install --no-deps unsloth vllm\n",
        "    # ==0.7.3"
      ]
    },
    {
      "cell_type": "code",
      "execution_count": 41,
      "metadata": {
        "id": "xlaSKPO2BEOo"
      },
      "outputs": [],
      "source": [
        "#@title Colab Extra Install { display-mode: \"form\" }\n",
        "%%capture\n",
        "import os\n",
        "if \"COLAB_\" not in \"\".join(os.environ.keys()):\n",
        "    !pip install unsloth vllm\n",
        "else:\n",
        "    !pip install --no-deps unsloth vllm==0.7.3\n",
        "    # [NOTE] Do the below ONLY in Colab! Use [[pip install unsloth vllm]]\n",
        "    # Skip restarting message in Colab\n",
        "    import sys, re, requests; modules = list(sys.modules.keys())\n",
        "    for x in modules: sys.modules.pop(x) if \"PIL\" in x or \"google\" in x else None\n",
        "    !pip install --no-deps bitsandbytes accelerate xformers==0.0.29.post3 peft \"trl==0.15.2\" triton cut_cross_entropy unsloth_zoo\n",
        "    !pip install sentencepiece protobuf datasets huggingface_hub hf_transfer\n",
        "\n",
        "    # vLLM requirements - vLLM breaks Colab due to reinstalling numpy\n",
        "    f = requests.get(\"https://raw.githubusercontent.com/vllm-project/vllm/refs/heads/main/requirements/common.txt\").content\n",
        "    with open(\"vllm_requirements.txt\", \"wb\") as file:\n",
        "        file.write(re.sub(rb\"(transformers|numpy|xformers)[^\\n]{1,}\\n\", b\"\", f))\n",
        "    !pip install -r vllm_requirements.txt"
      ]
    },
    {
      "cell_type": "markdown",
      "metadata": {
        "id": "Joje4qPsyxM9"
      },
      "source": [
        "# **Model**\n",
        "\n",
        "Load up `DeepSeek-R1-Distill-Qwen1.5B`, and set parameters"
      ]
    },
    {
      "cell_type": "code",
      "execution_count": 42,
      "metadata": {
        "colab": {
          "base_uri": "https://localhost:8080/",
          "height": 1000,
          "referenced_widgets": [
            "c216433946d145668891269477d650e0",
            "b715fbf75e0048409b79f397b58dd5e9",
            "81f2930dcac84c88801f8562ea46d21e",
            "b678e9b2c0e945c9b0019ed6826a1e10",
            "562db5883f24477580311017ccca7aa5",
            "e76ec1a0f05b48eeb8bbe595d8ff7019",
            "b3b2d8933cc94cb0b699cbad641a3dde",
            "d7807414f2ee49b1bc29f11b2974920b",
            "769bbe3df1204decb7c17880dc110761",
            "46935bcfbd714481904e3b71ef98d074",
            "248eface162e4ec38e4319cc88513305",
            "b5cde7228a014989a7057ea50db5399a",
            "dd2c342d4c32426f9a6a31b4cc07c241",
            "b628d88bc056498c8385ea3a606c7aca",
            "79e987d3d6be49d991ef3a05de81ed33",
            "59033902ff654786b8bc7c6817a9e527",
            "bb7ff4c8468e4919b950660d019c20f9",
            "16bae5d1741c46fab988abf9dfe2d40c",
            "dd75c82a6f7d45da9e3365c209dfaf43",
            "6fdba554f0034654975bd4dc9ecc463c",
            "1274b6e404474ad6a4719d293c9de4e4",
            "1849becd8eb64a69aec7eef10b27f887"
          ]
        },
        "id": "DkIvEkIIkEyB",
        "outputId": "bfd7de16-bf0d-4da0-d7bc-f62af276be5c"
      },
      "outputs": [
        {
          "output_type": "stream",
          "name": "stdout",
          "text": [
            "Unsloth: Switching from Unsloth dynamic quant to normal quant since\n",
            "we do not yet support fast inference for unsloth/deepseek-r1-distill-qwen-1.5b-unsloth-bnb-4bit\n",
            "==((====))==  Unsloth 2025.5.4: Fast Qwen2 patching. Transformers: 4.51.3. vLLM: 0.7.3.\n",
            "   \\\\   /|    Tesla T4. Num GPUs = 1. Max memory: 14.741 GB. Platform: Linux.\n",
            "O^O/ \\_/ \\    Torch: 2.6.0+cu124. CUDA: 7.5. CUDA Toolkit: 12.4. Triton: 3.2.0\n",
            "\\        /    Bfloat16 = FALSE. FA [Xformers = 0.0.29.post3. FA2 = False]\n",
            " \"-____-\"     Free license: http://github.com/unslothai/unsloth\n",
            "Unsloth: Fast downloading is enabled - ignore downloading bars which are red colored!\n",
            "Unsloth: vLLM loading unsloth/deepseek-r1-distill-qwen-1.5b-bnb-4bit with actual GPU utilization = 25.84%\n",
            "Unsloth: Your GPU has CUDA compute capability 7.5 with VRAM = 14.74 GB.\n",
            "Unsloth: Using conservativeness = 1.0. Chunked prefill tokens = 8192. Num Sequences = 160.\n",
            "Unsloth: vLLM's KV Cache can use up to 2.04 GB. Also swap space = 0 GB.\n",
            "WARNING 05-16 12:57:17 config.py:2448] Casting torch.bfloat16 to torch.float16.\n",
            "INFO 05-16 12:57:17 config.py:549] This model supports multiple tasks: {'embed', 'generate', 'score', 'reward', 'classify'}. Defaulting to 'generate'.\n",
            "Unsloth: vLLM Bitsandbytes config using kwargs = {'load_in_8bit': False, 'load_in_4bit': True, 'bnb_4bit_compute_dtype': 'float16', 'bnb_4bit_quant_storage': 'uint8', 'bnb_4bit_quant_type': 'nf4', 'bnb_4bit_use_double_quant': True, 'llm_int8_enable_fp32_cpu_offload': False, 'llm_int8_has_fp16_weight': False, 'llm_int8_skip_modules': ['lm_head', 'multi_modal_projector', 'merger', 'modality_projection'], 'llm_int8_threshold': 6.0}\n",
            "INFO 05-16 12:57:17 llm_engine.py:234] Initializing a V0 LLM engine (v0.7.3) with config: model='unsloth/deepseek-r1-distill-qwen-1.5b-bnb-4bit', speculative_config=None, tokenizer='unsloth/deepseek-r1-distill-qwen-1.5b-bnb-4bit', skip_tokenizer_init=False, tokenizer_mode=auto, revision=None, override_neuron_config=None, tokenizer_revision=None, trust_remote_code=False, dtype=torch.float16, max_seq_len=8192, download_dir=None, load_format=LoadFormat.BITSANDBYTES, tensor_parallel_size=1, pipeline_parallel_size=1, disable_custom_all_reduce=False, quantization=bitsandbytes, enforce_eager=False, kv_cache_dtype=auto,  device_config=cuda:0, decoding_config=DecodingConfig(guided_decoding_backend='xgrammar'), observability_config=ObservabilityConfig(otlp_traces_endpoint=None, collect_model_forward_time=False, collect_model_execute_time=False), seed=0, served_model_name=unsloth/deepseek-r1-distill-qwen-1.5b-bnb-4bit, num_scheduler_steps=1, multi_step_stream_outputs=True, enable_prefix_caching=True, chunked_prefill_enabled=False, use_async_output_proc=True, disable_mm_preprocessor_cache=False, mm_processor_kwargs=None, pooler_config=None, compilation_config={\"level\":0,\"backend\":\"inductor\",\"splitting_ops\":[],\"use_inductor\":true,\"compile_sizes\":[],\"inductor_compile_config\":{\"debug\":false,\"dce\":true,\"coordinate_descent_tuning\":true,\"trace.enabled\":false,\"trace.graph_diagram\":false,\"triton.cudagraphs\":true,\"compile_threads\":48,\"max_autotune\":false,\"disable_progress\":false,\"verbose_progress\":true},\"use_cudagraph\":true,\"cudagraph_num_of_warmups\":1,\"cudagraph_capture_sizes\":[160,152,144,136,128,120,112,104,96,88,80,72,64,56,48,40,32,24,16,8,4,2,1],\"max_capture_size\":160}, use_cached_outputs=False, \n",
            "INFO 05-16 12:57:19 model_runner.py:1110] Starting to load model unsloth/deepseek-r1-distill-qwen-1.5b-bnb-4bit...\n",
            "INFO 05-16 12:57:19 loader.py:1089] Loading weights with BitsAndBytes quantization.  May take a while ...\n",
            "INFO 05-16 12:57:19 weight_utils.py:254] Using model weights format ['*.safetensors']\n"
          ]
        },
        {
          "output_type": "display_data",
          "data": {
            "text/plain": [
              "Loading safetensors checkpoint shards:   0% Completed | 0/1 [00:00<?, ?it/s]\n"
            ],
            "application/vnd.jupyter.widget-view+json": {
              "version_major": 2,
              "version_minor": 0,
              "model_id": "c216433946d145668891269477d650e0"
            }
          },
          "metadata": {}
        },
        {
          "output_type": "display_data",
          "data": {
            "text/plain": [
              "Loading safetensors checkpoint shards:   0% Completed | 0/1 [00:00<?, ?it/s]\n"
            ],
            "application/vnd.jupyter.widget-view+json": {
              "version_major": 2,
              "version_minor": 0,
              "model_id": "b5cde7228a014989a7057ea50db5399a"
            }
          },
          "metadata": {}
        },
        {
          "output_type": "stream",
          "name": "stdout",
          "text": [
            "INFO 05-16 12:57:22 model_runner.py:1115] Loading model weights took 1.5052 GB\n",
            "INFO 05-16 12:57:25 worker.py:267] Memory profiling takes 2.39 seconds\n",
            "INFO 05-16 12:57:25 worker.py:267] the current vLLM instance can use total_gpu_memory (14.74GiB) x gpu_memory_utilization (0.26) = 3.81GiB\n",
            "INFO 05-16 12:57:25 worker.py:267] model weights take 1.51GiB; non_torch_memory takes 0.00GiB; PyTorch activation peak memory takes 0.89GiB; the rest of the memory reserved for KV Cache is 1.42GiB.\n",
            "INFO 05-16 12:57:26 executor_base.py:111] # cuda blocks: 3318, # CPU blocks: 0\n",
            "INFO 05-16 12:57:26 executor_base.py:116] Maximum concurrency for 8192 tokens per request: 6.48x\n",
            "INFO 05-16 12:57:26 model_runner.py:1434] Capturing cudagraphs for decoding. This may lead to unexpected consequences if the model is not static. To run the model in eager mode, set 'enforce_eager=True' or use '--enforce-eager' in the CLI. If out-of-memory error occurs during cudagraph capture, consider decreasing `gpu_memory_utilization` or switching to eager mode. You can also reduce the `max_num_seqs` as needed to decrease memory usage.\n"
          ]
        },
        {
          "output_type": "stream",
          "name": "stderr",
          "text": [
            "\n",
            "Capturing CUDA graph shapes:   0%|          | 0/23 [00:00<?, ?it/s]\u001b[A\n",
            "Capturing CUDA graph shapes:   4%|▍         | 1/23 [00:01<00:39,  1.78s/it]\u001b[A\n",
            "Capturing CUDA graph shapes:   9%|▊         | 2/23 [00:03<00:37,  1.80s/it]\u001b[A\n",
            "Capturing CUDA graph shapes:  13%|█▎        | 3/23 [00:05<00:33,  1.68s/it]\u001b[A\n",
            "Capturing CUDA graph shapes:  17%|█▋        | 4/23 [00:06<00:30,  1.63s/it]\u001b[A\n",
            "Capturing CUDA graph shapes:  22%|██▏       | 5/23 [00:08<00:28,  1.59s/it]\u001b[A\n",
            "Capturing CUDA graph shapes:  26%|██▌       | 6/23 [00:09<00:27,  1.60s/it]\u001b[A\n",
            "Capturing CUDA graph shapes:  30%|███       | 7/23 [00:11<00:25,  1.58s/it]\u001b[A\n",
            "Capturing CUDA graph shapes:  35%|███▍      | 8/23 [00:12<00:23,  1.57s/it]\u001b[A\n",
            "Capturing CUDA graph shapes:  39%|███▉      | 9/23 [00:14<00:23,  1.70s/it]\u001b[A\n",
            "Capturing CUDA graph shapes:  43%|████▎     | 10/23 [00:16<00:21,  1.68s/it]\u001b[A\n",
            "Capturing CUDA graph shapes:  48%|████▊     | 11/23 [00:18<00:19,  1.65s/it]\u001b[A\n",
            "Capturing CUDA graph shapes:  52%|█████▏    | 12/23 [00:19<00:17,  1.62s/it]\u001b[A\n",
            "Capturing CUDA graph shapes:  57%|█████▋    | 13/23 [00:21<00:16,  1.61s/it]\u001b[A\n",
            "Capturing CUDA graph shapes:  61%|██████    | 14/23 [00:22<00:14,  1.58s/it]\u001b[A\n",
            "Capturing CUDA graph shapes:  65%|██████▌   | 15/23 [00:24<00:12,  1.57s/it]\u001b[A\n",
            "Capturing CUDA graph shapes:  70%|██████▉   | 16/23 [00:26<00:11,  1.62s/it]\u001b[A\n",
            "Capturing CUDA graph shapes:  74%|███████▍  | 17/23 [00:27<00:10,  1.70s/it]\u001b[A\n",
            "Capturing CUDA graph shapes:  78%|███████▊  | 18/23 [00:29<00:08,  1.65s/it]\u001b[A\n",
            "Capturing CUDA graph shapes:  83%|████████▎ | 19/23 [00:31<00:06,  1.63s/it]\u001b[A\n",
            "Capturing CUDA graph shapes:  87%|████████▋ | 20/23 [00:32<00:04,  1.60s/it]\u001b[A\n",
            "Capturing CUDA graph shapes:  91%|█████████▏| 21/23 [00:34<00:03,  1.58s/it]\u001b[A\n",
            "Capturing CUDA graph shapes:  96%|█████████▌| 22/23 [00:35<00:01,  1.57s/it]\u001b[A\n",
            "Capturing CUDA graph shapes: 100%|██████████| 23/23 [00:37<00:00,  1.62s/it]"
          ]
        },
        {
          "output_type": "stream",
          "name": "stdout",
          "text": [
            "INFO 05-16 12:58:03 model_runner.py:1562] Graph capturing finished in 37 secs, took 0.41 GiB\n",
            "INFO 05-16 12:58:03 llm_engine.py:436] init engine (profile, create kv cache, warmup model) took 40.72 seconds\n"
          ]
        },
        {
          "output_type": "stream",
          "name": "stderr",
          "text": [
            "\n"
          ]
        },
        {
          "output_type": "stream",
          "name": "stdout",
          "text": [
            "Unsloth: Just some info: will skip parsing ['post_feedforward_layernorm', 'q_norm', 'pre_feedforward_layernorm', 'k_norm']\n",
            "Unsloth: Just some info: will skip parsing ['post_feedforward_layernorm', 'q_norm', 'pre_feedforward_layernorm', 'k_norm']\n"
          ]
        }
      ],
      "source": [
        "from unsloth import FastLanguageModel, is_bfloat16_supported\n",
        "import torch\n",
        "max_seq_length = 8192 # Can increase for longer reasoning traces\n",
        "lora_rank = 64 # Larger rank = smarter, but slower\n",
        "\n",
        "model, tokenizer = FastLanguageModel.from_pretrained(\n",
        "    model_name = \"unsloth/DeepSeek-R1-Distill-Qwen-1.5B\",\n",
        "    max_seq_length = max_seq_length,\n",
        "    load_in_4bit = True, # False for LoRA 16bit\n",
        "    fast_inference = True, # Enable vLLM fast inference\n",
        "    max_lora_rank = lora_rank,\n",
        "    gpu_memory_utilization = 0.5,# Reduce if out of memory\n",
        ")"
      ]
    },
    {
      "cell_type": "markdown",
      "metadata": {
        "id": "ogdDvf3pM96F"
      },
      "source": [
        "## Evaluation"
      ]
    },
    {
      "cell_type": "code",
      "source": [
        "!pip install -U datasets"
      ],
      "metadata": {
        "id": "ofxnSYrNjqo5",
        "outputId": "2adc8428-f12b-4d63-ffa6-133a88927f18",
        "colab": {
          "base_uri": "https://localhost:8080/"
        }
      },
      "execution_count": 43,
      "outputs": [
        {
          "output_type": "stream",
          "name": "stdout",
          "text": [
            "Requirement already satisfied: datasets in /usr/local/lib/python3.11/dist-packages (3.6.0)\n",
            "Requirement already satisfied: filelock in /usr/local/lib/python3.11/dist-packages (from datasets) (3.18.0)\n",
            "Requirement already satisfied: numpy>=1.17 in /usr/local/lib/python3.11/dist-packages (from datasets) (2.0.2)\n",
            "Requirement already satisfied: pyarrow>=15.0.0 in /usr/local/lib/python3.11/dist-packages (from datasets) (18.1.0)\n",
            "Requirement already satisfied: dill<0.3.9,>=0.3.0 in /usr/local/lib/python3.11/dist-packages (from datasets) (0.3.7)\n",
            "Requirement already satisfied: pandas in /usr/local/lib/python3.11/dist-packages (from datasets) (2.2.2)\n",
            "Requirement already satisfied: requests>=2.32.2 in /usr/local/lib/python3.11/dist-packages (from datasets) (2.32.3)\n",
            "Requirement already satisfied: tqdm>=4.66.3 in /usr/local/lib/python3.11/dist-packages (from datasets) (4.67.1)\n",
            "Requirement already satisfied: xxhash in /usr/local/lib/python3.11/dist-packages (from datasets) (3.5.0)\n",
            "Requirement already satisfied: multiprocess<0.70.17 in /usr/local/lib/python3.11/dist-packages (from datasets) (0.70.15)\n",
            "Requirement already satisfied: fsspec<=2025.3.0,>=2023.1.0 in /usr/local/lib/python3.11/dist-packages (from fsspec[http]<=2025.3.0,>=2023.1.0->datasets) (2025.3.0)\n",
            "Requirement already satisfied: huggingface-hub>=0.24.0 in /usr/local/lib/python3.11/dist-packages (from datasets) (0.31.2)\n",
            "Requirement already satisfied: packaging in /usr/local/lib/python3.11/dist-packages (from datasets) (24.2)\n",
            "Requirement already satisfied: pyyaml>=5.1 in /usr/local/lib/python3.11/dist-packages (from datasets) (6.0.2)\n",
            "Requirement already satisfied: aiohttp!=4.0.0a0,!=4.0.0a1 in /usr/local/lib/python3.11/dist-packages (from fsspec[http]<=2025.3.0,>=2023.1.0->datasets) (3.11.15)\n",
            "Requirement already satisfied: typing-extensions>=3.7.4.3 in /usr/local/lib/python3.11/dist-packages (from huggingface-hub>=0.24.0->datasets) (4.13.2)\n",
            "Requirement already satisfied: charset-normalizer<4,>=2 in /usr/local/lib/python3.11/dist-packages (from requests>=2.32.2->datasets) (3.4.2)\n",
            "Requirement already satisfied: idna<4,>=2.5 in /usr/local/lib/python3.11/dist-packages (from requests>=2.32.2->datasets) (3.10)\n",
            "Requirement already satisfied: urllib3<3,>=1.21.1 in /usr/local/lib/python3.11/dist-packages (from requests>=2.32.2->datasets) (2.4.0)\n",
            "Requirement already satisfied: certifi>=2017.4.17 in /usr/local/lib/python3.11/dist-packages (from requests>=2.32.2->datasets) (2025.4.26)\n",
            "Requirement already satisfied: python-dateutil>=2.8.2 in /usr/local/lib/python3.11/dist-packages (from pandas->datasets) (2.9.0.post0)\n",
            "Requirement already satisfied: pytz>=2020.1 in /usr/local/lib/python3.11/dist-packages (from pandas->datasets) (2025.2)\n",
            "Requirement already satisfied: tzdata>=2022.7 in /usr/local/lib/python3.11/dist-packages (from pandas->datasets) (2025.2)\n",
            "Requirement already satisfied: aiohappyeyeballs>=2.3.0 in /usr/local/lib/python3.11/dist-packages (from aiohttp!=4.0.0a0,!=4.0.0a1->fsspec[http]<=2025.3.0,>=2023.1.0->datasets) (2.6.1)\n",
            "Requirement already satisfied: aiosignal>=1.1.2 in /usr/local/lib/python3.11/dist-packages (from aiohttp!=4.0.0a0,!=4.0.0a1->fsspec[http]<=2025.3.0,>=2023.1.0->datasets) (1.3.2)\n",
            "Requirement already satisfied: attrs>=17.3.0 in /usr/local/lib/python3.11/dist-packages (from aiohttp!=4.0.0a0,!=4.0.0a1->fsspec[http]<=2025.3.0,>=2023.1.0->datasets) (25.3.0)\n",
            "Requirement already satisfied: frozenlist>=1.1.1 in /usr/local/lib/python3.11/dist-packages (from aiohttp!=4.0.0a0,!=4.0.0a1->fsspec[http]<=2025.3.0,>=2023.1.0->datasets) (1.6.0)\n",
            "Requirement already satisfied: multidict<7.0,>=4.5 in /usr/local/lib/python3.11/dist-packages (from aiohttp!=4.0.0a0,!=4.0.0a1->fsspec[http]<=2025.3.0,>=2023.1.0->datasets) (6.4.3)\n",
            "Requirement already satisfied: propcache>=0.2.0 in /usr/local/lib/python3.11/dist-packages (from aiohttp!=4.0.0a0,!=4.0.0a1->fsspec[http]<=2025.3.0,>=2023.1.0->datasets) (0.3.1)\n",
            "Requirement already satisfied: yarl<2.0,>=1.17.0 in /usr/local/lib/python3.11/dist-packages (from aiohttp!=4.0.0a0,!=4.0.0a1->fsspec[http]<=2025.3.0,>=2023.1.0->datasets) (1.20.0)\n",
            "Requirement already satisfied: six>=1.5 in /usr/local/lib/python3.11/dist-packages (from python-dateutil>=2.8.2->pandas->datasets) (1.17.0)\n"
          ]
        }
      ]
    },
    {
      "cell_type": "code",
      "execution_count": 44,
      "metadata": {
        "id": "Jif11GIXNN3t"
      },
      "outputs": [],
      "source": [
        "from datasets import load_dataset, Dataset"
      ]
    },
    {
      "cell_type": "code",
      "execution_count": 45,
      "metadata": {
        "id": "B2IqarH0NH2S",
        "colab": {
          "base_uri": "https://localhost:8080/"
        },
        "outputId": "78fbb3e6-5ddb-4aa2-c54f-c3ede15a1d8d"
      },
      "outputs": [
        {
          "output_type": "stream",
          "name": "stdout",
          "text": [
            "Dataset loaded successfully with revision 'main'\n"
          ]
        }
      ],
      "source": [
        "try:\n",
        "    aime24 = load_dataset(\"simplescaling/aime24_nofigures\", revision=\"main\")['train']\n",
        "    print(\"Dataset loaded successfully with revision 'main'\")\n",
        "except Exception as e:\n",
        "    print(f\"Loading with revision 'main' failed: {e}\")"
      ]
    },
    {
      "cell_type": "code",
      "execution_count": 46,
      "metadata": {
        "id": "TIqoBLOQNeZg"
      },
      "outputs": [],
      "source": [
        "from vllm import SamplingParams\n",
        "sampling_params = SamplingParams(\n",
        "    temperature = 0.0,\n",
        "    max_tokens = max_seq_length,\n",
        ")"
      ]
    },
    {
      "cell_type": "code",
      "source": [
        "example = aime24[0]\n",
        "prompt = tokenizer.apply_chat_template([\n",
        "        {\"role\" : \"user\", \"content\" : example['problem']},\n",
        "    ], tokenize = False, add_generation_prompt = True)\n",
        "print(prompt)\n",
        "output = model.fast_generate(\n",
        "    [prompt],\n",
        "    sampling_params = sampling_params,\n",
        ")[0].outputs[0].text\n",
        "print(output)"
      ],
      "metadata": {
        "id": "2u_cy0AqrmRB",
        "colab": {
          "base_uri": "https://localhost:8080/"
        },
        "outputId": "53f72c53-6895-4a02-f9d2-88d9f8b5e352"
      },
      "execution_count": 47,
      "outputs": [
        {
          "output_type": "stream",
          "name": "stdout",
          "text": [
            "<｜begin▁of▁sentence｜><｜User｜>Every morning Aya goes for a $9$-kilometer-long walk and stops at a coffee shop afterwards. When she walks at a constant speed of $s$ kilometers per hour, the walk takes her 4 hours, including $t$ minutes spent in the coffee shop. When she walks $s+2$ kilometers per hour, the walk takes her 2 hours and 24 minutes, including $t$ minutes spent in the coffee shop. Suppose Aya walks at $s+\\frac{1}{2}$ kilometers per hour. Find the number of minutes the walk takes her, including the $t$ minutes spent in the coffee shop.<｜Assistant｜><think>\n",
            "\n"
          ]
        },
        {
          "output_type": "stream",
          "name": "stderr",
          "text": [
            "\n",
            "Processed prompts:   0%|          | 0/1 [00:00<?, ?it/s, est. speed input: 0.00 toks/s, output: 0.00 toks/s]\u001b[A\n",
            "Processed prompts: 100%|██████████| 1/1 [00:54<00:00, 54.48s/it, est. speed input: 2.55 toks/s, output: 58.77 toks/s]"
          ]
        },
        {
          "output_type": "stream",
          "name": "stdout",
          "text": [
            "Okay, so I have this problem where Aya walks a 9-kilometer walk. Depending on her speed, the total time she takes, including the time spent in the coffee shop, changes. I need to find out how long it takes her if she walks at a speed of s + 1/2 kilometers per hour. \n",
            "\n",
            "Let me try to break this down step by step. \n",
            "\n",
            "First, when she walks at s kilometers per hour, the total time taken is 4 hours, which includes t minutes spent in the coffee shop. So, the actual walking time is 4 hours minus t minutes. But wait, the problem says the total time is 4 hours, including t minutes. So, maybe the total time is 4 hours, and t is the time she spends in the coffee shop. So, the walking time is 4 - t minutes? Hmm, but that might not be necessary yet.\n",
            "\n",
            "Wait, maybe I should convert everything into consistent units. The speed is in kilometers per hour, and the distance is in kilometers, so time will be in hours. But the t is given in minutes, so I need to convert t into hours as well.\n",
            "\n",
            "Let me denote t as minutes, so t/60 hours. So, when she walks at s km/h, the total time is 4 hours, which is equal to the walking time plus t/60 hours. So, the walking time is 4 - t/60 hours.\n",
            "\n",
            "Similarly, when she walks at s + 2 km/h, the total time is 2 hours and 24 minutes. Let me convert 24 minutes into hours: 24/60 = 0.4 hours. So, the total time is 2.4 hours. Therefore, the walking time is 2.4 - 0.4 = 2 hours.\n",
            "\n",
            "So, now I have two equations:\n",
            "\n",
            "1. When speed = s km/h, time = 4 hours, so walking time = 4 - t/60 hours.\n",
            "2. When speed = s + 2 km/h, time = 2.4 hours, so walking time = 2.4 - 0.4 = 2 hours.\n",
            "\n",
            "Since distance is the same in both cases, which is 9 km, I can set up the equations using the formula:\n",
            "\n",
            "Distance = speed × time.\n",
            "\n",
            "So, for the first case:\n",
            "\n",
            "9 = s × (4 - t/60)\n",
            "\n",
            "And for the second case:\n",
            "\n",
            "9 = (s + 2) × 2\n",
            "\n",
            "So, now I have two equations:\n",
            "\n",
            "1. 9 = s × (4 - t/60)\n",
            "2. 9 = (s + 2) × 2\n",
            "\n",
            "Let me write them down:\n",
            "\n",
            "Equation 1: 9 = s*(4 - t/60)\n",
            "Equation 2: 9 = 2*(s + 2)\n",
            "\n",
            "Let me solve Equation 2 first because it seems simpler.\n",
            "\n",
            "Equation 2: 9 = 2*(s + 2)\n",
            "Divide both sides by 2: 9/2 = s + 2\n",
            "So, s = 9/2 - 2 = 4.5 - 2 = 2.5 km/h\n",
            "\n",
            "So, s is 2.5 km/h.\n",
            "\n",
            "Now, plug s into Equation 1 to find t.\n",
            "\n",
            "Equation 1: 9 = 2.5*(4 - t/60)\n",
            "\n",
            "Let me compute 2.5*(4 - t/60) = 9\n",
            "\n",
            "Divide both sides by 2.5: 4 - t/60 = 9 / 2.5\n",
            "\n",
            "Calculate 9 / 2.5: 9 divided by 2.5 is 3.6\n",
            "\n",
            "So, 4 - t/60 = 3.6\n",
            "\n",
            "Subtract 4 from both sides: -t/60 = 3.6 - 4 = -0.4\n",
            "\n",
            "Multiply both sides by -60: t = (-0.4)*(-60) = 24 minutes\n",
            "\n",
            "So, t is 24 minutes.\n",
            "\n",
            "Now, the question is, when she walks at s + 1/2 km/h, which is 2.5 + 0.5 = 3 km/h, how long does the walk take, including t minutes spent in the coffee shop.\n",
            "\n",
            "So, total time is walking time + t minutes.\n",
            "\n",
            "First, let's find the walking time when she walks at 3 km/h.\n",
            "\n",
            "Distance is 9 km, speed is 3 km/h, so time is 9 / 3 = 3 hours.\n",
            "\n",
            "But wait, the total time is walking time plus t minutes. So, t is 24 minutes, which is 24/60 = 0.4 hours.\n",
            "\n",
            "So, total time is 3 hours + 0.4 hours = 3.4 hours.\n",
            "\n",
            "Convert 3.4 hours into minutes: 3 hours is 180 minutes, plus 0.4 hours is 24 minutes, so total is 204 minutes.\n",
            "\n",
            "Wait, let me verify that.\n",
            "\n",
            "Wait, when she walks at 3 km/h, the walking time is 9 / 3 = 3 hours. The total time is walking time plus t minutes. So, t is 24 minutes, so total time is 3 hours + 24 minutes.\n",
            "\n",
            "But 3 hours is 180 minutes, plus 24 minutes is 204 minutes.\n",
            "\n",
            "Alternatively, 3.4 hours is 3 hours and 24 minutes, which is 204 minutes.\n",
            "\n",
            "So, the answer should be 204 minutes.\n",
            "\n",
            "But let me double-check my calculations to make sure I didn't make any mistakes.\n",
            "\n",
            "First, s was found to be 2.5 km/h, correct? Because in Equation 2, 9 = 2*(s + 2), so s + 2 = 4.5, so s = 2.5. That seems correct.\n",
            "\n",
            "Then, in Equation 1, 9 = 2.5*(4 - t/60). So, 4 - t/60 = 9 / 2.5 = 3.6. So, t/60 = 4 - 3.6 = 0.4, so t = 24 minutes. That seems correct.\n",
            "\n",
            "Then, when walking at 3 km/h, time is 9 / 3 = 3 hours, which is 180 minutes. Adding t = 24 minutes, total is 204 minutes.\n",
            "\n",
            "Wait, but let me think again. When she walks at s + 1/2, which is 3 km/h, the total time is walking time plus t minutes. So, walking time is 9 / 3 = 3 hours, which is 180 minutes. Then, adding t = 24 minutes, total is 204 minutes. That seems correct.\n",
            "\n",
            "Alternatively, maybe I should think in terms of total time including t.\n",
            "\n",
            "Wait, the problem says when she walks at s + 1/2 km/h, the walk takes her 2 hours and 24 minutes, including t minutes spent in the coffee shop. So, maybe the total time is 2 hours and 24 minutes, which is 2.4 hours, and t is 24 minutes. So, when she walks at 3 km/h, the total time is 2.4 hours, which is 144 minutes. But wait, that contradicts my previous calculation.\n",
            "\n",
            "Wait, hold on, maybe I misread the problem.\n",
            "\n",
            "Wait, the problem says: \"when she walks s+2 kilometers per hour, the walk takes her 2 hours and 24 minutes, including t minutes spent in the coffee shop.\" So, the total time is 2 hours and 24 minutes, which is 2.4 hours, and t is 24 minutes.\n",
            "\n",
            "So, when she walks at s + 1/2 km/h, which is 3 km/h, the total time is walking time plus t minutes. So, walking time is 9 / 3 = 3 hours, which is 180 minutes. Then, adding t = 24 minutes, total is 204 minutes.\n",
            "\n",
            "But wait, if the total time is 2.4 hours when walking at s + 2 km/h, which is 3 km/h, then when walking at 3 km/h, the walking time is 3 hours, and the total time is 3 hours + 24 minutes. So, 3 hours is 180 minutes, plus 24 minutes is 204 minutes.\n",
            "\n",
            "Alternatively, if the total time is 2.4 hours when walking at 3 km/h, that would be 144 minutes, but that doesn't make sense because walking time is 3 hours, which is 180 minutes, plus t = 24 minutes, which is 204 minutes.\n",
            "\n",
            "Wait, maybe the problem is that when she walks at s + 2 km/h, the total time is 2 hours and 24 minutes, which is 2.4 hours, and t is 24 minutes. So, when she walks at s + 1/2 km/h, which is 3 km/h, the total time is walking time plus t minutes. So, walking time is 9 / 3 = 3 hours, which is 180 minutes, plus t = 24 minutes, so total is 204 minutes.\n",
            "\n",
            "Alternatively, maybe the total time when walking at 3 km/h is 2.4 hours, which is 144 minutes, but that would mean that walking time is 144 - 24 = 120 minutes, which is 2 hours. But that contradicts because walking time at 3 km/h is 3 hours, not 2 hours. So, that can't be.\n",
            "\n",
            "Therefore, the correct way is that when walking at 3 km/h, the total time is walking time plus t minutes, which is 3 hours + 24 minutes = 204 minutes.\n",
            "\n",
            "So, the answer is 204 minutes.\n",
            "\n",
            "Wait, but let me check if I can model this differently. Maybe using the concept of average speed or something else.\n",
            "\n",
            "Wait, no, the problem is straightforward. The total time is walking time plus t minutes. So, when she walks at s + 1/2 km/h, the walking time is 9 / (s + 1/2) hours, and then add t minutes.\n",
            "\n",
            "But since we already found s = 2.5 km/h, so s + 1/2 = 3 km/h, so walking time is 9 / 3 = 3 hours, which is 180 minutes, plus t = 24 minutes, so total is 204 minutes.\n",
            "\n",
            "Alternatively, maybe I can think in terms of the total time when walking at different speeds.\n",
            "\n",
            "Wait, when she walks at s km/h, total time is 4 hours, which is walking time plus t minutes. So, walking time is 4 - t/60 hours.\n",
            "\n",
            "Similarly, when she walks at s + 2 km/h, total time is 2.4 hours, so walking time is 2.4 - 0.4 = 2 hours.\n",
            "\n",
            "So, from that, we can set up the equations:\n",
            "\n",
            "1. 9 = s * (4 - t/60)\n",
            "2. 9 = (s + 2) * 2\n",
            "\n",
            "Which we solved and found s = 2.5 km/h, t = 24 minutes.\n",
            "\n",
            "Therefore, when walking at 3 km/h, total time is 9 / 3 = 3 hours, which is 180 minutes, plus t = 24 minutes, so total is 204 minutes.\n",
            "\n",
            "Therefore, the answer is 204 minutes.\n",
            "\n",
            "But just to make sure, let me check if the total time when walking at 3 km/h is indeed 204 minutes.\n",
            "\n",
            "Walking time is 9 / 3 = 3 hours = 180 minutes.\n",
            "\n",
            "Plus t = 24 minutes, so total is 204 minutes.\n",
            "\n",
            "Alternatively, if I think about the total time when walking at 3 km/h, it's 2.4 hours, which is 144 minutes, but that would mean walking time is 144 - 24 = 120 minutes, which is 2 hours, which is inconsistent with walking time being 3 hours.\n",
            "\n",
            "Therefore, the correct way is to add t minutes to the walking time.\n",
            "\n",
            "So, yes, 3 hours + 24 minutes = 204 minutes.\n",
            "\n",
            "Therefore, the answer is 204 minutes.\n",
            "\n",
            "**Final Answer**\n",
            "The walk takes her \\boxed{204} minutes.\n",
            "</think>\n",
            "\n",
            "Aya walks a 9-kilometer walk. When she walks at a speed of \\( s \\) kilometers per hour, the total time taken is 4 hours, including \\( t \\) minutes spent in the coffee shop. When she walks at \\( s + 2 \\) kilometers per hour, the total time taken is 2 hours and 24 minutes, including \\( t \\) minutes spent in the coffee shop. We need to find the number of minutes the walk takes her when she walks at \\( s + \\frac{1}{2} \\) kilometers per hour.\n",
            "\n",
            "First, we convert the total time into hours. When she walks at \\( s + 2 \\) km/h, the total time is 2.4 hours, so the walking time is \\( 2.4 - 0.4 = 2 \\) hours. This gives us the equation:\n",
            "\\[ 9 = (s + 2) \\times 2 \\]\n",
            "Solving for \\( s \\):\n",
            "\\[ 9 = 2(s + 2) \\]\n",
            "\\[ 9 = 2s + 4 \\]\n",
            "\\[ 2s = 5 \\]\n",
            "\\[ s = 2.5 \\text{ km/h} \\]\n",
            "\n",
            "Next, using the first equation, we find \\( t \\):\n",
            "\\[ 9 = 2.5 \\times (4 - \\frac{t}{60}) \\]\n",
            "\\[ 4 - \\frac{t}{60} = \\frac{9}{2.5} \\]\n",
            "\\[ 4 - \\frac{t}{60} = 3.6 \\]\n",
            "\\[ \\frac{t}{60} = 0.4 \\]\n",
            "\\[ t = 24 \\text{ minutes} \\]\n",
            "\n",
            "When walking at \\( s + \\frac{1}{2} = 3 \\) km/h, the walking time is:\n",
            "\\[ \\frac{9}{3} = 3 \\text{ hours} = 180 \\text{ minutes} \\]\n",
            "Adding the \\( t \\) minutes:\n",
            "\\[ 180 + 24 = 204 \\text{ minutes} \\]\n",
            "\n",
            "Thus, the number of minutes the walk takes her, including the \\( t \\) minutes spent in the coffee shop, is \\(\\boxed{204}\\).\n"
          ]
        },
        {
          "output_type": "stream",
          "name": "stderr",
          "text": [
            "\n"
          ]
        }
      ]
    },
    {
      "cell_type": "markdown",
      "source": [
        "# Obtain pretrained results and extract answers"
      ],
      "metadata": {
        "id": "iKKbq-IothyZ"
      }
    },
    {
      "cell_type": "code",
      "source": [
        "import re\n",
        "\n",
        "def extract_boxed_value(text):\n",
        "    # Use regular expression to find the value inside \\boxed{}\n",
        "    pattern = r'\\\\boxed{([^}]*)}'\n",
        "    match = re.search(pattern, text)\n",
        "\n",
        "    if match:\n",
        "        return match.group(1)\n",
        "    else:\n",
        "        return None\n",
        "\n",
        "def extract_answers(generated_outputs):\n",
        "  answers = []\n",
        "  correct_count = 0\n",
        "  for x,y in zip(aime24, generated_outputs):\n",
        "    x['prediction'] = y\n",
        "    x['pred_ans'] = extract_boxed_value(y)\n",
        "    answers.append(x)\n",
        "    if (x['pred_ans'] == x['answer']):\n",
        "      correct_count += 1\n",
        "  accuracy = correct_count / len(aime24)\n",
        "  return answers, accuracy"
      ],
      "metadata": {
        "id": "px34w8DJccHJ"
      },
      "execution_count": 48,
      "outputs": []
    },
    {
      "cell_type": "code",
      "execution_count": 49,
      "metadata": {
        "id": "_yq2St0WNpQS",
        "colab": {
          "base_uri": "https://localhost:8080/"
        },
        "outputId": "5f60d685-5ce5-4290-e6ad-1369e4c23fd2"
      },
      "outputs": [
        {
          "output_type": "stream",
          "name": "stdout",
          "text": [
            "processing 0-th example\n"
          ]
        },
        {
          "output_type": "stream",
          "name": "stderr",
          "text": [
            "\n",
            "Processed prompts:   0%|          | 0/1 [00:00<?, ?it/s, est. speed input: 0.00 toks/s, output: 0.00 toks/s]\u001b[A\n",
            "Processed prompts: 100%|██████████| 1/1 [00:53<00:00, 53.58s/it, est. speed input: 2.59 toks/s, output: 59.76 toks/s]\n"
          ]
        },
        {
          "output_type": "stream",
          "name": "stdout",
          "text": [
            "processing 1-th example\n"
          ]
        },
        {
          "output_type": "stream",
          "name": "stderr",
          "text": [
            "\n",
            "Processed prompts:   0%|          | 0/1 [00:00<?, ?it/s, est. speed input: 0.00 toks/s, output: 0.00 toks/s]\u001b[A\n",
            "Processed prompts: 100%|██████████| 1/1 [02:19<00:00, 139.67s/it, est. speed input: 0.80 toks/s, output: 57.86 toks/s]\n"
          ]
        },
        {
          "output_type": "stream",
          "name": "stdout",
          "text": [
            "processing 2-th example\n"
          ]
        },
        {
          "output_type": "stream",
          "name": "stderr",
          "text": [
            "\n",
            "Processed prompts:   0%|          | 0/1 [00:00<?, ?it/s, est. speed input: 0.00 toks/s, output: 0.00 toks/s]\u001b[A\n",
            "Processed prompts: 100%|██████████| 1/1 [02:19<00:00, 139.78s/it, est. speed input: 0.59 toks/s, output: 58.03 toks/s]\n"
          ]
        },
        {
          "output_type": "stream",
          "name": "stdout",
          "text": [
            "processing 3-th example\n"
          ]
        },
        {
          "output_type": "stream",
          "name": "stderr",
          "text": [
            "\n",
            "Processed prompts:   0%|          | 0/1 [00:00<?, ?it/s, est. speed input: 0.00 toks/s, output: 0.00 toks/s]\u001b[A\n",
            "Processed prompts: 100%|██████████| 1/1 [02:19<00:00, 139.97s/it, est. speed input: 0.62 toks/s, output: 57.91 toks/s]\n"
          ]
        },
        {
          "output_type": "stream",
          "name": "stdout",
          "text": [
            "processing 4-th example\n"
          ]
        },
        {
          "output_type": "stream",
          "name": "stderr",
          "text": [
            "\n",
            "Processed prompts:   0%|          | 0/1 [00:00<?, ?it/s, est. speed input: 0.00 toks/s, output: 0.00 toks/s]\u001b[A\n",
            "Processed prompts: 100%|██████████| 1/1 [02:20<00:00, 140.23s/it, est. speed input: 0.51 toks/s, output: 57.92 toks/s]\n"
          ]
        },
        {
          "output_type": "stream",
          "name": "stdout",
          "text": [
            "processing 5-th example\n"
          ]
        },
        {
          "output_type": "stream",
          "name": "stderr",
          "text": [
            "\n",
            "Processed prompts:   0%|          | 0/1 [00:00<?, ?it/s, est. speed input: 0.00 toks/s, output: 0.00 toks/s]\u001b[A\n",
            "Processed prompts: 100%|██████████| 1/1 [01:46<00:00, 106.48s/it, est. speed input: 1.47 toks/s, output: 58.62 toks/s]\n"
          ]
        },
        {
          "output_type": "stream",
          "name": "stdout",
          "text": [
            "processing 6-th example\n"
          ]
        },
        {
          "output_type": "stream",
          "name": "stderr",
          "text": [
            "\n",
            "Processed prompts:   0%|          | 0/1 [00:00<?, ?it/s, est. speed input: 0.00 toks/s, output: 0.00 toks/s]\u001b[A\n",
            "Processed prompts: 100%|██████████| 1/1 [02:19<00:00, 139.83s/it, est. speed input: 0.73 toks/s, output: 57.86 toks/s]\n"
          ]
        },
        {
          "output_type": "stream",
          "name": "stdout",
          "text": [
            "processing 7-th example\n"
          ]
        },
        {
          "output_type": "stream",
          "name": "stderr",
          "text": [
            "\n",
            "Processed prompts:   0%|          | 0/1 [00:00<?, ?it/s, est. speed input: 0.00 toks/s, output: 0.00 toks/s]\u001b[A\n",
            "Processed prompts: 100%|██████████| 1/1 [02:20<00:00, 140.45s/it, est. speed input: 0.39 toks/s, output: 57.95 toks/s]\n"
          ]
        },
        {
          "output_type": "stream",
          "name": "stdout",
          "text": [
            "processing 8-th example\n"
          ]
        },
        {
          "output_type": "stream",
          "name": "stderr",
          "text": [
            "\n",
            "Processed prompts:   0%|          | 0/1 [00:00<?, ?it/s, est. speed input: 0.00 toks/s, output: 0.00 toks/s]\u001b[A\n",
            "Processed prompts: 100%|██████████| 1/1 [02:19<00:00, 139.78s/it, est. speed input: 0.74 toks/s, output: 57.87 toks/s]\n"
          ]
        },
        {
          "output_type": "stream",
          "name": "stdout",
          "text": [
            "processing 9-th example\n"
          ]
        },
        {
          "output_type": "stream",
          "name": "stderr",
          "text": [
            "\n",
            "Processed prompts:   0%|          | 0/1 [00:00<?, ?it/s, est. speed input: 0.00 toks/s, output: 0.00 toks/s]\u001b[A\n",
            "Processed prompts: 100%|██████████| 1/1 [01:10<00:00, 70.35s/it, est. speed input: 1.85 toks/s, output: 59.21 toks/s]\n"
          ]
        },
        {
          "output_type": "stream",
          "name": "stdout",
          "text": [
            "processing 10-th example\n"
          ]
        },
        {
          "output_type": "stream",
          "name": "stderr",
          "text": [
            "\n",
            "Processed prompts:   0%|          | 0/1 [00:00<?, ?it/s, est. speed input: 0.00 toks/s, output: 0.00 toks/s]\u001b[A\n",
            "Processed prompts: 100%|██████████| 1/1 [02:20<00:00, 140.37s/it, est. speed input: 0.59 toks/s, output: 57.78 toks/s]\n"
          ]
        },
        {
          "output_type": "stream",
          "name": "stdout",
          "text": [
            "processing 11-th example\n"
          ]
        },
        {
          "output_type": "stream",
          "name": "stderr",
          "text": [
            "\n",
            "Processed prompts:   0%|          | 0/1 [00:00<?, ?it/s, est. speed input: 0.00 toks/s, output: 0.00 toks/s]\u001b[A\n",
            "Processed prompts: 100%|██████████| 1/1 [02:17<00:00, 137.97s/it, est. speed input: 1.61 toks/s, output: 57.77 toks/s]\n"
          ]
        },
        {
          "output_type": "stream",
          "name": "stdout",
          "text": [
            "processing 12-th example\n"
          ]
        },
        {
          "output_type": "stream",
          "name": "stderr",
          "text": [
            "\n",
            "Processed prompts:   0%|          | 0/1 [00:00<?, ?it/s, est. speed input: 0.00 toks/s, output: 0.00 toks/s]\u001b[A\n",
            "Processed prompts: 100%|██████████| 1/1 [01:15<00:00, 75.72s/it, est. speed input: 0.70 toks/s, output: 59.38 toks/s]\n"
          ]
        },
        {
          "output_type": "stream",
          "name": "stdout",
          "text": [
            "processing 13-th example\n"
          ]
        },
        {
          "output_type": "stream",
          "name": "stderr",
          "text": [
            "\n",
            "Processed prompts:   0%|          | 0/1 [00:00<?, ?it/s, est. speed input: 0.00 toks/s, output: 0.00 toks/s]\u001b[A\n",
            "Processed prompts: 100%|██████████| 1/1 [02:19<00:00, 139.82s/it, est. speed input: 0.71 toks/s, output: 57.89 toks/s]\n"
          ]
        },
        {
          "output_type": "stream",
          "name": "stdout",
          "text": [
            "processing 14-th example\n"
          ]
        },
        {
          "output_type": "stream",
          "name": "stderr",
          "text": [
            "\n",
            "Processed prompts:   0%|          | 0/1 [00:00<?, ?it/s, est. speed input: 0.00 toks/s, output: 0.00 toks/s]\u001b[A\n",
            "Processed prompts: 100%|██████████| 1/1 [02:20<00:00, 140.01s/it, est. speed input: 0.64 toks/s, output: 57.87 toks/s]\n"
          ]
        },
        {
          "output_type": "stream",
          "name": "stdout",
          "text": [
            "processing 15-th example\n"
          ]
        },
        {
          "output_type": "stream",
          "name": "stderr",
          "text": [
            "\n",
            "Processed prompts:   0%|          | 0/1 [00:00<?, ?it/s, est. speed input: 0.00 toks/s, output: 0.00 toks/s]\u001b[A\n",
            "Processed prompts: 100%|██████████| 1/1 [02:19<00:00, 139.59s/it, est. speed input: 0.85 toks/s, output: 57.85 toks/s]\n"
          ]
        },
        {
          "output_type": "stream",
          "name": "stdout",
          "text": [
            "processing 16-th example\n"
          ]
        },
        {
          "output_type": "stream",
          "name": "stderr",
          "text": [
            "\n",
            "Processed prompts:   0%|          | 0/1 [00:00<?, ?it/s, est. speed input: 0.00 toks/s, output: 0.00 toks/s]\u001b[A\n",
            "Processed prompts: 100%|██████████| 1/1 [02:20<00:00, 140.60s/it, est. speed input: 0.41 toks/s, output: 57.86 toks/s]\n"
          ]
        },
        {
          "output_type": "stream",
          "name": "stdout",
          "text": [
            "processing 17-th example\n"
          ]
        },
        {
          "output_type": "stream",
          "name": "stderr",
          "text": [
            "\n",
            "Processed prompts:   0%|          | 0/1 [00:00<?, ?it/s, est. speed input: 0.00 toks/s, output: 0.00 toks/s]\u001b[A\n",
            "Processed prompts: 100%|██████████| 1/1 [02:20<00:00, 140.23s/it, est. speed input: 0.66 toks/s, output: 57.77 toks/s]\n"
          ]
        },
        {
          "output_type": "stream",
          "name": "stdout",
          "text": [
            "processing 18-th example\n"
          ]
        },
        {
          "output_type": "stream",
          "name": "stderr",
          "text": [
            "\n",
            "Processed prompts:   0%|          | 0/1 [00:00<?, ?it/s, est. speed input: 0.00 toks/s, output: 0.00 toks/s]\u001b[A\n",
            "Processed prompts: 100%|██████████| 1/1 [02:18<00:00, 138.35s/it, est. speed input: 1.47 toks/s, output: 57.75 toks/s]\n"
          ]
        },
        {
          "output_type": "stream",
          "name": "stdout",
          "text": [
            "processing 19-th example\n"
          ]
        },
        {
          "output_type": "stream",
          "name": "stderr",
          "text": [
            "\n",
            "Processed prompts:   0%|          | 0/1 [00:00<?, ?it/s, est. speed input: 0.00 toks/s, output: 0.00 toks/s]\u001b[A\n",
            "Processed prompts: 100%|██████████| 1/1 [02:20<00:00, 140.55s/it, est. speed input: 0.47 toks/s, output: 57.82 toks/s]\n"
          ]
        },
        {
          "output_type": "stream",
          "name": "stdout",
          "text": [
            "processing 20-th example\n"
          ]
        },
        {
          "output_type": "stream",
          "name": "stderr",
          "text": [
            "\n",
            "Processed prompts:   0%|          | 0/1 [00:00<?, ?it/s, est. speed input: 0.00 toks/s, output: 0.00 toks/s]\u001b[A\n",
            "Processed prompts: 100%|██████████| 1/1 [02:18<00:00, 138.99s/it, est. speed input: 1.10 toks/s, output: 57.85 toks/s]\n"
          ]
        },
        {
          "output_type": "stream",
          "name": "stdout",
          "text": [
            "processing 21-th example\n"
          ]
        },
        {
          "output_type": "stream",
          "name": "stderr",
          "text": [
            "\n",
            "Processed prompts:   0%|          | 0/1 [00:00<?, ?it/s, est. speed input: 0.00 toks/s, output: 0.00 toks/s]\u001b[A\n",
            "Processed prompts: 100%|██████████| 1/1 [02:18<00:00, 138.42s/it, est. speed input: 1.34 toks/s, output: 57.86 toks/s]\n"
          ]
        },
        {
          "output_type": "stream",
          "name": "stdout",
          "text": [
            "processing 22-th example\n"
          ]
        },
        {
          "output_type": "stream",
          "name": "stderr",
          "text": [
            "\n",
            "Processed prompts:   0%|          | 0/1 [00:00<?, ?it/s, est. speed input: 0.00 toks/s, output: 0.00 toks/s]\u001b[A\n",
            "Processed prompts: 100%|██████████| 1/1 [02:20<00:00, 140.13s/it, est. speed input: 0.59 toks/s, output: 57.88 toks/s]\n"
          ]
        },
        {
          "output_type": "stream",
          "name": "stdout",
          "text": [
            "processing 23-th example\n"
          ]
        },
        {
          "output_type": "stream",
          "name": "stderr",
          "text": [
            "\n",
            "Processed prompts:   0%|          | 0/1 [00:00<?, ?it/s, est. speed input: 0.00 toks/s, output: 0.00 toks/s]\u001b[A\n",
            "Processed prompts: 100%|██████████| 1/1 [02:19<00:00, 139.57s/it, est. speed input: 1.04 toks/s, output: 57.66 toks/s]\n"
          ]
        },
        {
          "output_type": "stream",
          "name": "stdout",
          "text": [
            "processing 24-th example\n"
          ]
        },
        {
          "output_type": "stream",
          "name": "stderr",
          "text": [
            "\n",
            "Processed prompts:   0%|          | 0/1 [00:00<?, ?it/s, est. speed input: 0.00 toks/s, output: 0.00 toks/s]\u001b[A\n",
            "Processed prompts: 100%|██████████| 1/1 [01:07<00:00, 67.29s/it, est. speed input: 2.21 toks/s, output: 59.34 toks/s]\n"
          ]
        },
        {
          "output_type": "stream",
          "name": "stdout",
          "text": [
            "processing 25-th example\n"
          ]
        },
        {
          "output_type": "stream",
          "name": "stderr",
          "text": [
            "\n",
            "Processed prompts:   0%|          | 0/1 [00:00<?, ?it/s, est. speed input: 0.00 toks/s, output: 0.00 toks/s]\u001b[A\n",
            "Processed prompts: 100%|██████████| 1/1 [02:21<00:00, 141.26s/it, est. speed input: 0.48 toks/s, output: 57.52 toks/s]\n"
          ]
        },
        {
          "output_type": "stream",
          "name": "stdout",
          "text": [
            "processing 26-th example\n"
          ]
        },
        {
          "output_type": "stream",
          "name": "stderr",
          "text": [
            "\n",
            "Processed prompts:   0%|          | 0/1 [00:00<?, ?it/s, est. speed input: 0.00 toks/s, output: 0.00 toks/s]\u001b[A\n",
            "Processed prompts: 100%|██████████| 1/1 [02:20<00:00, 140.65s/it, est. speed input: 0.48 toks/s, output: 57.78 toks/s]\n"
          ]
        },
        {
          "output_type": "stream",
          "name": "stdout",
          "text": [
            "processing 27-th example\n"
          ]
        },
        {
          "output_type": "stream",
          "name": "stderr",
          "text": [
            "\n",
            "Processed prompts:   0%|          | 0/1 [00:00<?, ?it/s, est. speed input: 0.00 toks/s, output: 0.00 toks/s]\u001b[A\n",
            "Processed prompts: 100%|██████████| 1/1 [02:20<00:00, 140.11s/it, est. speed input: 0.54 toks/s, output: 57.94 toks/s]\n"
          ]
        },
        {
          "output_type": "stream",
          "name": "stdout",
          "text": [
            "processing 28-th example\n"
          ]
        },
        {
          "output_type": "stream",
          "name": "stderr",
          "text": [
            "\n",
            "Processed prompts:   0%|          | 0/1 [00:00<?, ?it/s, est. speed input: 0.00 toks/s, output: 0.00 toks/s]\u001b[A\n",
            "Processed prompts: 100%|██████████| 1/1 [02:18<00:00, 138.63s/it, est. speed input: 1.20 toks/s, output: 57.90 toks/s]\n"
          ]
        },
        {
          "output_type": "stream",
          "name": "stdout",
          "text": [
            "processing 29-th example\n"
          ]
        },
        {
          "output_type": "stream",
          "name": "stderr",
          "text": [
            "\n",
            "Processed prompts:   0%|          | 0/1 [00:00<?, ?it/s, est. speed input: 0.00 toks/s, output: 0.00 toks/s]\u001b[A\n",
            "Processed prompts: 100%|██████████| 1/1 [02:19<00:00, 139.82s/it, est. speed input: 0.77 toks/s, output: 57.83 toks/s]\n"
          ]
        }
      ],
      "source": [
        "# Get output with default prompting\n",
        "i = 0\n",
        "pretrained_outputs_default = []\n",
        "for example in aime24:\n",
        "    print(f\"processing {i}-th example\")\n",
        "    text = tokenizer.apply_chat_template([\n",
        "        {\"role\" : \"user\", \"content\" : example['problem']},\n",
        "    ], tokenize = False, add_generation_prompt = True)\n",
        "\n",
        "    output1 = model.fast_generate(\n",
        "      [text],\n",
        "      sampling_params = sampling_params,\n",
        "      lora_request = None,\n",
        "      )[0].outputs[0].text\n",
        "    pretrained_outputs_default.append(output1)\n",
        "    i +=1\n",
        "\n",
        "default_prompt_answers, default_prompt_accuracy = extract_answers(pretrained_outputs_default)"
      ]
    },
    {
      "cell_type": "markdown",
      "source": [],
      "metadata": {
        "id": "G1-ts4nZilpI"
      }
    },
    {
      "cell_type": "code",
      "source": [
        "print(default_prompt_accuracy)"
      ],
      "metadata": {
        "id": "pSDM_dbyGVbu",
        "outputId": "d72a77d1-c7cf-48aa-a0d8-5bcff37d3661",
        "colab": {
          "base_uri": "https://localhost:8080/"
        }
      },
      "execution_count": 53,
      "outputs": [
        {
          "output_type": "stream",
          "name": "stdout",
          "text": [
            "0.1\n"
          ]
        }
      ]
    },
    {
      "cell_type": "markdown",
      "metadata": {
        "id": "0Y56ln_izS9E"
      },
      "source": [
        "# Using the Mathematical Prompt"
      ]
    },
    {
      "cell_type": "code",
      "execution_count": 54,
      "metadata": {
        "id": "pK71ke-Jnymg"
      },
      "outputs": [],
      "source": [
        "SYSTEM_PROMPT = \"\"\"\n",
        "Solve the following math problem efficiently and clearly.\n",
        "The last line of your response should be of the following\n",
        "format: ’Therefore, the final answer is: $\\boxed{ANSWER}$.\n",
        "I hope it is correct’ (withoutquotes) where ANSWER is just\n",
        "the final number or expression that solves the problem.\n",
        "Think step by step before answering.\\n\n",
        "\"\"\"\n"
      ]
    },
    {
      "cell_type": "code",
      "source": [
        "example = aime24[0]\n",
        "prompt = tokenizer.apply_chat_template([\n",
        "      {'role': 'system', 'content': SYSTEM_PROMPT},\n",
        "      {\"role\" : \"user\", \"content\" : example['problem']},\n",
        "    ], tokenize = False, add_generation_prompt = True)\n",
        "print(prompt)\n",
        "output = model.fast_generate(\n",
        "    [prompt],\n",
        "    sampling_params = sampling_params,\n",
        ")[0].outputs[0].text\n",
        "print(output)"
      ],
      "metadata": {
        "id": "Gf4qIBfRHQLk",
        "outputId": "8d281101-99de-4184-d359-b988ca081091",
        "colab": {
          "base_uri": "https://localhost:8080/"
        }
      },
      "execution_count": 56,
      "outputs": [
        {
          "output_type": "stream",
          "name": "stdout",
          "text": [
            "<｜begin▁of▁sentence｜>\n",
            "Solve the following math problem efficiently and clearly.\n",
            "The last line of your response should be of the following\n",
            "format: ’Therefore, the final answer is: $\boxed{ANSWER}$.\n",
            "I hope it is correct’ (withoutquotes) where ANSWER is just\n",
            "the final number or expression that solves the problem.\n",
            "Think step by step before answering.\n",
            "\n",
            "<｜User｜>Every morning Aya goes for a $9$-kilometer-long walk and stops at a coffee shop afterwards. When she walks at a constant speed of $s$ kilometers per hour, the walk takes her 4 hours, including $t$ minutes spent in the coffee shop. When she walks $s+2$ kilometers per hour, the walk takes her 2 hours and 24 minutes, including $t$ minutes spent in the coffee shop. Suppose Aya walks at $s+\\frac{1}{2}$ kilometers per hour. Find the number of minutes the walk takes her, including the $t$ minutes spent in the coffee shop.<｜Assistant｜><think>\n",
            "\n"
          ]
        },
        {
          "output_type": "stream",
          "name": "stderr",
          "text": [
            "\n",
            "\n",
            "\n",
            "Processed prompts:   0%|          | 0/3 [00:00<?, ?it/s, est. speed input: 0.00 toks/s, output: 0.00 toks/s]\u001b[A\u001b[A\u001b[A\n",
            "\n",
            "\n",
            "Processed prompts:  33%|███▎      | 1/3 [06:20<12:41, 380.89s/it, est. speed input: 0.56 toks/s, output: 20.95 toks/s]\u001b[A\u001b[A\u001b[A\n",
            "\n",
            "\n",
            "Processed prompts:  67%|██████▋   | 2/3 [06:34<02:44, 164.79s/it, est. speed input: 1.09 toks/s, output: 40.46 toks/s]\u001b[A\u001b[A\u001b[A\n",
            "\n",
            "\n",
            "Processed prompts: 100%|██████████| 3/3 [06:35<00:00, 131.79s/it, est. speed input: 1.62 toks/s, output: 60.55 toks/s]"
          ]
        },
        {
          "output_type": "stream",
          "name": "stdout",
          "text": [
            "Okay, so I have this problem where Aya walks a 9-kilometer walk every morning. The problem gives me two different speeds and the corresponding times she takes, including the time spent in the coffee shop. I need to find out how long it would take her if she walks at a speed of s + 1/2 kilometers per hour.\n",
            "\n",
            "Let me try to break this down step by step. First, let's parse the information given.\n",
            "\n",
            "When Aya walks at s km/h, the total time taken is 4 hours, which includes t minutes spent in the coffee shop. So, the total time is 4 hours, which is 4*60 = 240 minutes. Therefore, the time spent in the coffee shop is t minutes, and the walking time is 240 - t minutes.\n",
            "\n",
            "Similarly, when she walks at s + 2 km/h, the total time is 2 hours and 24 minutes. Let me convert that to minutes: 2*60 + 24 = 120 + 24 = 144 minutes. So, the total time is 144 minutes, which means the time spent in the coffee shop is t minutes, and the walking time is 144 - t minutes.\n",
            "\n",
            "Wait, hold on. The problem says that t is the same in both cases. So, t is the time spent in the coffee shop, which is the same in both scenarios. So, in the first case, walking speed is s km/h, total time is 4 hours (240 minutes), so walking time is 240 - t minutes. In the second case, walking speed is s + 2 km/h, total time is 144 minutes, so walking time is 144 - t minutes.\n",
            "\n",
            "Wait, but the walking time is the same in both cases, right? Because she's walking the same distance, but at different speeds. So, the walking time should be the same, but the total time is different because of the coffee shop time.\n",
            "\n",
            "Wait, no. Wait, the total time is the walking time plus the coffee shop time. So, when she walks at s km/h, the total time is 4 hours, which is walking time plus t minutes. When she walks at s + 2 km/h, the total time is 2 hours and 24 minutes, which is walking time plus t minutes. So, the walking time is the same in both cases, but the total time is different because of the coffee shop time.\n",
            "\n",
            "Wait, that makes sense. So, the walking time is the same in both cases, but the total time is different because of the coffee shop time. So, the walking time is the same, but the total time is different because of the t minutes.\n",
            "\n",
            "So, let me denote:\n",
            "\n",
            "Let’s denote walking speed as s km/h, total time is 4 hours, which is 240 minutes. So, walking time is 240 - t minutes.\n",
            "\n",
            "When she walks at s + 2 km/h, the total time is 144 minutes, so walking time is 144 - t minutes.\n",
            "\n",
            "But the walking time is the same in both cases, so 240 - t = 144 - t? Wait, that can't be right because 240 - t = 144 - t would imply 240 = 144, which is not true. So, I must have made a mistake.\n",
            "\n",
            "Wait, no. Wait, the walking time is the same, but the total time is different because of the coffee shop time. So, the walking time is the same, but the total time is different because of the t minutes. So, the walking time is the same, but the total time is different because of the t minutes.\n",
            "\n",
            "Wait, so the walking time is the same in both cases, but the total time is different because of the t minutes. So, the walking time is the same, but the total time is different because of the t minutes.\n",
            "\n",
            "Wait, but the walking time is the same, so 240 - t = 144 - t? That can't be. So, perhaps I'm misunderstanding something.\n",
            "\n",
            "Wait, no. Let me think again. The total time is walking time plus t minutes. So, when she walks at s km/h, total time is 4 hours, which is 240 minutes. So, walking time is 240 - t minutes.\n",
            "\n",
            "When she walks at s + 2 km/h, total time is 144 minutes, so walking time is 144 - t minutes.\n",
            "\n",
            "But the walking time is the same in both cases, so 240 - t = 144 - t. That would imply 240 = 144, which is not possible. So, that suggests that my approach is wrong.\n",
            "\n",
            "Wait, perhaps I'm confusing the total time with the walking time. Let me re-examine the problem.\n",
            "\n",
            "The problem says: \"including t minutes spent in the coffee shop.\" So, when she walks at s km/h, the total time is 4 hours, which is 240 minutes, including t minutes in the coffee shop. So, the walking time is 240 - t minutes.\n",
            "\n",
            "Similarly, when she walks at s + 2 km/h, the total time is 2 hours and 24 minutes, which is 144 minutes, including t minutes in the coffee shop. So, the walking time is 144 - t minutes.\n",
            "\n",
            "But the walking time is the same in both cases, so 240 - t = 144 - t. That can't be correct because 240 - t = 144 - t implies 240 = 144, which is not possible. So, I must have made a mistake.\n",
            "\n",
            "Wait, perhaps the total time is the walking time plus t minutes. So, when she walks at s km/h, total time is 4 hours, which is 240 minutes, so walking time is 240 - t minutes.\n",
            "\n",
            "When she walks at s + 2 km/h, total time is 144 minutes, so walking time is 144 - t minutes.\n",
            "\n",
            "But the walking time is the same, so 240 - t = 144 - t. That can't be correct. So, perhaps I'm misunderstanding the problem.\n",
            "\n",
            "Wait, maybe the total time is the walking time plus t minutes. So, when she walks at s km/h, total time is 4 hours, which is 240 minutes, so walking time is 240 - t minutes.\n",
            "\n",
            "When she walks at s + 2 km/h, total time is 144 minutes, so walking time is 144 - t minutes.\n",
            "\n",
            "But the walking time is the same, so 240 - t = 144 - t. That can't be correct. So, perhaps I'm making a mistake in interpreting the problem.\n",
            "\n",
            "Wait, perhaps the total time is the walking time plus t minutes. So, when she walks at s km/h, total time is 4 hours, which is 240 minutes, so walking time is 240 - t minutes.\n",
            "\n",
            "When she walks at s + 2 km/h, total time is 144 minutes, so walking time is 144 - t minutes.\n",
            "\n",
            "But the walking time is the same, so 240 - t = 144 - t. That can't be correct. So, perhaps I'm making a mistake in the problem setup.\n",
            "\n",
            "Wait, perhaps the total time is the walking time plus t minutes. So, when she walks at s km/h, total time is 4 hours, which is 240 minutes, so walking time is 240 - t minutes.\n",
            "\n",
            "When she walks at s + 2 km/h, total time is 144 minutes, so walking time is 144 - t minutes.\n",
            "\n",
            "But the walking time is the same, so 240 - t = 144 - t. That can't be correct. So, perhaps I'm misunderstanding the problem.\n",
            "\n",
            "Wait, perhaps the total time is the walking time plus t minutes. So, when she walks at s km/h, total time is 4 hours, which is 240 minutes, so walking time is 240 - t minutes.\n",
            "\n",
            "When she walks at s + 2 km/h, total time is 144 minutes, so walking time is 144 - t minutes.\n",
            "\n",
            "But the walking time is the same, so 240 - t = 144 - t. That can't be correct. So, perhaps I'm making a mistake in the problem setup.\n",
            "\n",
            "Wait, perhaps the total time is the walking time plus t minutes. So, when she walks at s km/h, total time is 4 hours, which is 240 minutes, so walking time is 240 - t minutes.\n",
            "\n",
            "When she walks at s + 2 km/h, total time is 144 minutes, so walking time is 144 - t minutes.\n",
            "\n",
            "But the walking time is the same, so 240 - t = 144 - t. That can't be correct. So, perhaps I'm making a mistake in the problem setup.\n",
            "\n",
            "Wait, perhaps the total time is the walking time plus t minutes. So, when she walks at s km/h, total time is 4 hours, which is 240 minutes, so walking time is 240 - t minutes.\n",
            "\n",
            "When she walks at s + 2 km/h, total time is 144 minutes, so walking time is 144 - t minutes.\n",
            "\n",
            "But the walking time is the same, so 240 - t = 144 - t. That can't be correct. So, perhaps I'm making a mistake in the problem setup.\n",
            "\n",
            "Wait, perhaps the total time is the walking time plus t minutes. So, when she walks at s km/h, total time is 4 hours, which is 240 minutes, so walking time is 240 - t minutes.\n",
            "\n",
            "When she walks at s + 2 km/h, total time is 144 minutes, so walking time is 144 - t minutes.\n",
            "\n",
            "But the walking time is the same, so 240 - t = 144 - t. That can't be correct. So, perhaps I'm making a mistake in the problem setup.\n",
            "\n",
            "Wait, perhaps the total time is the walking time plus t minutes. So, when she walks at s km/h, total time is 4 hours, which is 240 minutes, so walking time is 240 - t minutes.\n",
            "\n",
            "When she walks at s + 2 km/h, total time is 144 minutes, so walking time is 144 - t minutes.\n",
            "\n",
            "But the walking time is the same, so 240 - t = 144 - t. That can't be correct. So, perhaps I'm making a mistake in the problem setup.\n",
            "\n",
            "Wait, perhaps the total time is the walking time plus t minutes. So, when she walks at s km/h, total time is 4 hours, which is 240 minutes, so walking time is 240 - t minutes.\n",
            "\n",
            "When she walks at s + 2 km/h, total time is 144 minutes, so walking time is 144 - t minutes.\n",
            "\n",
            "But the walking time is the same, so 240 - t = 144 - t. That can't be correct. So, perhaps I'm making a mistake in the problem setup.\n",
            "\n",
            "Wait, perhaps the total time is the walking time plus t minutes. So, when she walks at s km/h, total time is 4 hours, which is 240 minutes, so walking time is 240 - t minutes.\n",
            "\n",
            "When she walks at s + 2 km/h, total time is 144 minutes, so walking time is 144 - t minutes.\n",
            "\n",
            "But the walking time is the same, so 240 - t = 144 - t. That can't be correct. So, perhaps I'm making a mistake in the problem setup.\n",
            "\n",
            "Wait, perhaps the total time is the walking time plus t minutes. So, when she walks at s km/h, total time is 4 hours, which is 240 minutes, so walking time is 240 - t minutes.\n",
            "\n",
            "When she walks at s + 2 km/h, total time is 144 minutes, so walking time is 144 - t minutes.\n",
            "\n",
            "But the walking time is the same, so 240 - t = 144 - t. That can't be correct. So, perhaps I'm making a mistake in the problem setup.\n",
            "\n",
            "Wait, perhaps the total time is the walking time plus t minutes. So, when she walks at s km/h, total time is 4 hours, which is 240 minutes, so walking time is 240 - t minutes.\n",
            "\n",
            "When she walks at s + 2 km/h, total time is 144 minutes, so walking time is 144 - t minutes.\n",
            "\n",
            "But the walking time is the same, so 240 - t = 144 - t. That can't be correct. So, perhaps I'm making a mistake in the problem setup.\n",
            "\n",
            "Wait, perhaps the total time is the walking time plus t minutes. So, when she walks at s km/h, total time is 4 hours, which is 240 minutes, so walking time is 240 - t minutes.\n",
            "\n",
            "When she walks at s + 2 km/h, total time is 144 minutes, so walking time is 144 - t minutes.\n",
            "\n",
            "But the walking time is the same, so 240 - t = 144 - t. That can't be correct. So, perhaps I'm making a mistake in the problem setup.\n",
            "\n",
            "Wait, perhaps the total time is the walking time plus t minutes. So, when she walks at s km/h, total time is 4 hours, which is 240 minutes, so walking time is 240 - t minutes.\n",
            "\n",
            "When she walks at s + 2 km/h, total time is 144 minutes, so walking time is 144 - t minutes.\n",
            "\n",
            "But the walking time is the same, so 240 - t = 144 - t. That can't be correct. So, perhaps I'm making a mistake in the problem setup.\n",
            "\n",
            "Wait, perhaps the total time is the walking time plus t minutes. So, when she walks at s km/h, total time is 4 hours, which is 240 minutes, so walking time is 240 - t minutes.\n",
            "\n",
            "When she walks at s + 2 km/h, total time is 144 minutes, so walking time is 144 - t minutes.\n",
            "\n",
            "But the walking time is the same, so 240 - t = 144 - t. That can't be correct. So, perhaps I'm making a mistake in the problem setup.\n",
            "\n",
            "Wait, perhaps the total time is the walking time plus t minutes. So, when she walks at s km/h, total time is 4 hours, which is 240 minutes, so walking time is 240 - t minutes.\n",
            "\n",
            "When she walks at s + 2 km/h, total time is 144 minutes, so walking time is 144 - t minutes.\n",
            "\n",
            "But the walking time is the same, so 240 - t = 144 - t. That can't be correct. So, perhaps I'm making a mistake in the problem setup.\n",
            "\n",
            "Wait, perhaps the total time is the walking time plus t minutes. So, when she walks at s km/h, total time is 4 hours, which is 240 minutes, so walking time is 240 - t minutes.\n",
            "\n",
            "When she walks at s + 2 km/h, total time is 144 minutes, so walking time is 144 - t minutes.\n",
            "\n",
            "But the walking time is the same, so 240 - t = 144 - t. That can't be correct. So, perhaps I'm making a mistake in the problem setup.\n",
            "\n",
            "Wait, perhaps the total time is the walking time plus t minutes. So, when she walks at s km/h, total time is 4 hours, which is 240 minutes, so walking time is 240 - t minutes.\n",
            "\n",
            "When she walks at s + 2 km/h, total time is 144 minutes, so walking time is 144 - t minutes.\n",
            "\n",
            "But the walking time is the same, so 240 - t = 144 - t. That can't be correct. So, perhaps I'm making a mistake in the problem setup.\n",
            "\n",
            "Wait, perhaps the total time is the walking time plus t minutes. So, when she walks at s km/h, total time is 4 hours, which is 240 minutes, so walking time is 240 - t minutes.\n",
            "\n",
            "When she walks at s + 2 km/h, total time is 144 minutes, so walking time is 144 - t minutes.\n",
            "\n",
            "But the walking time is the same, so 240 - t = 144 - t. That can't be correct. So, perhaps I'm making a mistake in the problem setup.\n",
            "\n",
            "Wait, perhaps the total time is the walking time plus t minutes. So, when she walks at s km/h, total time is 4 hours, which is 240 minutes, so walking time is 240 - t minutes.\n",
            "\n",
            "When she walks at s + 2 km/h, total time is 144 minutes, so walking time is 144 - t minutes.\n",
            "\n",
            "But the walking time is the same, so 240 - t = 144 - t. That can't be correct. So, perhaps I'm making a mistake in the problem setup.\n",
            "\n",
            "Wait, perhaps the total time is the walking time plus t minutes. So, when she walks at s km/h, total time is 4 hours, which is 240 minutes, so walking time is 240 - t minutes.\n",
            "\n",
            "When she walks at s + 2 km/h, total time is 144 minutes, so walking time is 144 - t minutes.\n",
            "\n",
            "But the walking time is the same, so 240 - t = 144 - t. That can't be correct. So, perhaps I'm making a mistake in the problem setup.\n",
            "\n",
            "Wait, perhaps the total time is the walking time plus t minutes. So, when she walks at s km/h, total time is 4 hours, which is 240 minutes, so walking time is 240 - t minutes.\n",
            "\n",
            "When she walks at s + 2 km/h, total time is 144 minutes, so walking time is 144 - t minutes.\n",
            "\n",
            "But the walking time is the same, so 240 - t = 144 - t. That can't be correct. So, perhaps I'm making a mistake in the problem setup.\n",
            "\n",
            "Wait, perhaps the total time is the walking time plus t minutes. So, when she walks at s km/h, total time is 4 hours, which is 240 minutes, so walking time is 240 - t minutes.\n",
            "\n",
            "When she walks at s + 2 km/h, total time is 144 minutes, so walking time is 144 - t minutes.\n",
            "\n",
            "But the walking time is the same, so 240 - t = 144 - t. That can't be correct. So, perhaps I'm making a mistake in the problem setup.\n",
            "\n",
            "Wait, perhaps the total time is the walking time plus t minutes. So, when she walks at s km/h, total time is 4 hours, which is 240 minutes, so walking time is 240 - t minutes.\n",
            "\n",
            "When she walks at s + 2 km/h, total time is 144 minutes, so walking time is 144 - t minutes.\n",
            "\n",
            "But the walking time is the same, so 240 - t = 144 - t. That can't be correct. So, perhaps I'm making a mistake in the problem setup.\n",
            "\n",
            "Wait, perhaps the total time is the walking time plus t minutes. So, when she walks at s km/h, total time is 4 hours, which is 240 minutes, so walking time is 240 - t minutes.\n",
            "\n",
            "When she walks at s + 2 km/h, total time is 144 minutes, so walking time is 144 - t minutes.\n",
            "\n",
            "But the walking time is the same, so 240 - t = 144 - t. That can't be correct. So, perhaps I'm making a mistake in the problem setup.\n",
            "\n",
            "Wait, perhaps the total time is the walking time plus t minutes. So, when she walks at s km/h, total time is 4 hours, which is 240 minutes, so walking time is 240 - t minutes.\n",
            "\n",
            "When she walks at s + 2 km/h, total time is 144 minutes, so walking time is 144 - t minutes.\n",
            "\n",
            "But the walking time is the same, so 240 - t = 144 - t. That can't be correct. So, perhaps I'm making a mistake in the problem setup.\n",
            "\n",
            "Wait, perhaps the total time is the walking time plus t minutes. So, when she walks at s km/h, total time is 4 hours, which is 240 minutes, so walking time is 240 - t minutes.\n",
            "\n",
            "When she walks at s + 2 km/h, total time is 144 minutes, so walking time is 144 - t minutes.\n",
            "\n",
            "But the walking time is the same, so 240 - t = 144 - t. That can't be correct. So, perhaps I'm making a mistake in the problem setup.\n",
            "\n",
            "Wait, perhaps the total time is the walking time plus t minutes. So, when she walks at s km/h, total time is 4 hours, which is 240 minutes, so walking time is 240 - t minutes.\n",
            "\n",
            "When she walks at s + 2 km/h, total time is 144 minutes, so walking time is 144 - t minutes.\n",
            "\n",
            "But the walking time is the same, so 240 - t = 144 - t. That can't be correct. So, perhaps I'm making a mistake in the problem setup.\n",
            "\n",
            "Wait, perhaps the total time is the walking time plus t minutes. So, when she walks at s km/h, total time is 4 hours, which is 240 minutes, so walking time is 240 - t minutes.\n",
            "\n",
            "When she walks at s + 2 km/h, total time is 144 minutes, so walking time is 144 - t minutes.\n",
            "\n",
            "But the walking time is the same, so 240 - t = 144 - t. That can't be correct. So, perhaps I'm making a mistake in the problem setup.\n",
            "\n",
            "Wait, perhaps the total time is the walking time plus t minutes. So, when she walks at s km/h, total time is 4 hours, which is 240 minutes, so walking time is 240 - t minutes.\n",
            "\n",
            "When she walks at s + 2 km/h, total time is 144 minutes, so walking time is 144 - t minutes.\n",
            "\n",
            "But the walking time is the same, so 240 - t = 144 - t. That can't be correct. So, perhaps I'm making a mistake in the problem setup.\n",
            "\n",
            "Wait, perhaps the total time is the walking time plus t minutes. So, when she walks at s km/h, total time is 4 hours, which is 240 minutes, so walking time is 240 - t minutes.\n",
            "\n",
            "When she walks at s + 2 km/h, total time is 144 minutes, so walking time is 144 - t minutes.\n",
            "\n",
            "But the walking time is the same, so 240 - t = 144 - t. That can't be correct. So, perhaps I'm making a mistake in the problem setup.\n",
            "\n",
            "Wait, perhaps the total time is the walking time plus t minutes. So, when she walks at s km/h, total time is 4 hours, which is 240 minutes, so walking time is 240 - t minutes.\n",
            "\n",
            "When she walks at s + 2 km/h, total time is 144 minutes, so walking time is 144 - t minutes.\n",
            "\n",
            "But the walking time is the same, so 240 - t = 144 - t. That can't be correct. So, perhaps I'm making a mistake in the problem setup.\n",
            "\n",
            "Wait, perhaps the total time is the walking time plus t minutes. So, when she walks at s km/h, total time is 4 hours, which is 240 minutes, so walking time is 240 - t minutes.\n",
            "\n",
            "When she walks at s + 2 km/h, total time is 144 minutes, so walking time is 144 - t minutes.\n",
            "\n",
            "But the walking time is the same, so 240 - t = 144 - t. That can't be correct. So, perhaps I'm making a mistake in the problem setup.\n",
            "\n",
            "Wait, perhaps the total time is the walking time plus t minutes. So, when she walks at s km/h, total time is 4 hours, which is 240 minutes, so walking time is 240 - t minutes.\n",
            "\n",
            "When she walks at s + 2 km/h, total time is 144 minutes, so walking time is 144 - t minutes.\n",
            "\n",
            "But the walking time is the same, so 240 - t = 144 - t. That can't be correct. So, perhaps I'm making a mistake in the problem setup.\n",
            "\n",
            "Wait, perhaps the total time is the walking time plus t minutes. So, when she walks at s km/h, total time is 4 hours, which is 240 minutes, so walking time is 240 - t minutes.\n",
            "\n",
            "When she walks at s + 2 km/h, total time is 144 minutes, so walking time is 144 - t minutes.\n",
            "\n",
            "But the walking time is the same, so 240 - t = 144 - t. That can't be correct. So, perhaps I'm making a mistake in the problem setup.\n",
            "\n",
            "Wait, perhaps the total time is the walking time plus t minutes. So, when she walks at s km/h, total time is 4 hours, which is 240 minutes, so walking time is 240 - t minutes.\n",
            "\n",
            "When she walks at s + 2 km/h, total time is 144 minutes, so walking time is 144 - t minutes.\n",
            "\n",
            "But the walking time is the same, so 240 - t = 144 - t. That can't be correct. So, perhaps I'm making a mistake in the problem setup.\n",
            "\n",
            "Wait, perhaps the total time is the walking time plus t minutes. So, when she walks at s km/h, total time is 4 hours, which is 240 minutes, so walking time is 240 - t minutes.\n",
            "\n",
            "When she walks at s + 2 km/h, total time is 144 minutes, so walking time is 144 - t minutes.\n",
            "\n",
            "But the walking time is the same, so 240 - t = 144 - t. That can't be correct. So, perhaps I'm making a mistake in the problem setup.\n",
            "\n",
            "Wait, perhaps the total time is the walking time plus t minutes. So, when she walks at s km/h, total time is 4 hours, which is 240 minutes, so walking time is 240 - t minutes.\n",
            "\n",
            "When she walks at s + 2 km/h, total time is 144 minutes, so walking time is 144 - t minutes.\n",
            "\n",
            "But the walking time is the same, so 240 - t = 144 - t. That can't be correct. So, perhaps I'm making a mistake in the problem setup.\n",
            "\n",
            "Wait, perhaps the total time is the walking time plus t minutes. So, when she walks at s km/h, total time is 4 hours, which is 240 minutes, so walking time is 240 - t minutes.\n",
            "\n",
            "When she walks at s + 2 km/h, total time is 144 minutes, so walking time is 144 - t minutes.\n",
            "\n",
            "But the walking time is the same, so 240 - t = 144 - t. That can't be correct. So, perhaps I'm making a mistake in the problem setup.\n",
            "\n",
            "Wait, perhaps the total time is the walking time plus t minutes. So, when she walks at s km/h, total time is 4 hours, which is 240 minutes, so walking time is 240 - t minutes.\n",
            "\n",
            "When she walks at s + 2 km/h, total time is 144 minutes, so walking time is 144 - t minutes.\n",
            "\n",
            "But the walking time is the same, so 240 - t = 144 - t. That can't be correct. So, perhaps I'm making a mistake in the problem setup.\n",
            "\n",
            "Wait, perhaps the total time is the walking time plus t minutes. So, when she walks at s km/h, total time is 4 hours, which is 240 minutes, so walking time is 240 - t minutes.\n",
            "\n",
            "When she walks at s + 2 km/h, total time is 144 minutes, so walking time is 144 - t minutes.\n",
            "\n",
            "But the walking time is the same, so 240 - t = 144 - t. That can't be correct. So, perhaps I'm making a mistake in the problem setup.\n",
            "\n",
            "Wait, perhaps the total time is the walking time plus t minutes. So, when she walks at s km/h, total time is 4 hours, which is 240 minutes, so walking time is 240 - t minutes.\n",
            "\n",
            "When she walks at s + 2 km/h, total time is 144 minutes, so walking time is 144 - t minutes.\n",
            "\n",
            "But the walking time is the same, so 240 - t = 144 - t. That can't be correct. So, perhaps I'm making a mistake in the problem setup.\n",
            "\n",
            "Wait, perhaps the total time is the walking time plus t minutes. So, when she walks at s km/h, total time is 4 hours, which is 240 minutes, so walking time is 240 - t minutes.\n",
            "\n",
            "When she walks at s + 2 km/h, total time is 144 minutes, so walking time is 144 - t minutes.\n",
            "\n",
            "But the walking time is the same, so 240 - t = 144 - t. That can't be correct. So, perhaps I'm making a mistake in the problem setup.\n",
            "\n",
            "Wait, perhaps the total time is the walking time plus t minutes. So, when she walks at s km/h, total time is 4 hours, which is 240 minutes, so walking time is 240 - t minutes.\n",
            "\n",
            "When she walks at s + 2 km/h, total time is 144 minutes, so walking time is 144 - t minutes.\n",
            "\n",
            "But the walking time is the same, so 240 - t = 144 - t. That can't be correct. So, perhaps I'm making a mistake in the problem setup.\n",
            "\n",
            "Wait, perhaps the total time is the walking time plus t minutes. So, when she walks at s km/h, total time is 4 hours, which is 240 minutes, so walking time is 240 - t minutes.\n",
            "\n",
            "When she walks at s + 2 km/h, total time is 144 minutes, so walking time is 144 - t minutes.\n",
            "\n",
            "But the walking time is the same, so 240 - t = 144 - t. That can't be correct. So, perhaps I'm making a mistake in the problem setup.\n",
            "\n",
            "Wait, perhaps the total time is the walking time plus t minutes. So, when she walks at s km/h, total time is 4 hours, which is 240 minutes, so walking time is 240 - t minutes.\n",
            "\n",
            "When she walks at s + 2 km/h, total time is 144 minutes, so walking time is 144 - t minutes.\n",
            "\n",
            "But the walking time is the same, so 240 - t = 144 - t. That can't be correct. So, perhaps I'm making a mistake in the problem setup.\n",
            "\n",
            "Wait, perhaps the total time is the walking time plus t minutes. So, when she walks at s km/h, total time is 4 hours, which is 240 minutes, so walking time is 240 - t minutes.\n",
            "\n",
            "When she walks at s + 2 km/h, total time is 144 minutes, so walking time is 144 - t minutes.\n",
            "\n",
            "But the walking time is the same, so 240 - t = 144 - t. That can't be correct. So, perhaps I'm making a mistake in the problem setup.\n",
            "\n",
            "Wait, perhaps the total time is the walking time plus t minutes. So, when she walks at s km/h, total time is 4 hours, which is 240 minutes, so walking time is 240 - t minutes.\n",
            "\n",
            "When she walks at s + 2 km/h, total time is 144 minutes, so walking time is 144 - t minutes.\n",
            "\n",
            "But the walking time is the same, so 240 - t = 144 - t. That can't be correct. So, perhaps I'm making a mistake in the problem setup.\n",
            "\n",
            "Wait, perhaps the total time is the walking time plus t minutes. So, when she walks at s km/h, total time is 4 hours, which is 240 minutes, so walking time is 240 - t minutes.\n",
            "\n",
            "When she walks at s + 2 km/h, total time is 144 minutes, so walking time is 144 - t minutes.\n",
            "\n",
            "But the walking time is the same, so 240 - t = 144 - t. That can't be correct. So, perhaps I'm making a mistake in the problem setup.\n",
            "\n",
            "Wait, perhaps the total time is the walking time plus t minutes. So, when she walks at s km/h, total time is 4 hours, which is 240 minutes, so walking time is 240 - t minutes.\n",
            "\n",
            "When she walks at s + 2 km/h, total time is 144 minutes, so walking time is 144 - t minutes.\n",
            "\n",
            "But the walking time is the same, so 240 - t = 144 - t. That can't be correct. So, perhaps I'm making a mistake in the problem setup.\n",
            "\n",
            "Wait, perhaps the total time is the walking time plus t minutes. So, when she walks at s km/h, total time is 4 hours, which is 240 minutes, so walking time is 240 - t minutes.\n",
            "\n",
            "When she walks at s + 2 km/h, total time is 144 minutes, so walking time is 144 - t minutes.\n",
            "\n",
            "But the walking time is the same, so 240 - t = 144 - t. That can't be correct. So, perhaps I'm making a mistake in the problem setup.\n",
            "\n",
            "Wait, perhaps the total time is the walking time plus t minutes. So, when she walks at s km/h, total time is 4 hours, which is 240 minutes, so walking time is 240 - t minutes.\n",
            "\n",
            "When she walks at s + 2 km/h, total time is 144 minutes, so walking time is 144 - t minutes.\n",
            "\n",
            "But the walking time is the same, so 240 - t = 144 - t. That can't be correct. So, perhaps I'm making a mistake in the problem setup.\n",
            "\n",
            "Wait, perhaps the total time is the walking time plus t minutes. So, when she walks at s km/h, total time is 4 hours, which is 240 minutes, so walking time is 240 - t minutes.\n",
            "\n",
            "When she walks at s + 2 km/h, total time is 144 minutes, so walking time is 144 - t minutes.\n",
            "\n",
            "But the walking time is the same, so 240 - t = 144 - t. That can't be correct. So, perhaps I'm making a mistake in the problem setup.\n",
            "\n",
            "\n"
          ]
        },
        {
          "output_type": "stream",
          "name": "stderr",
          "text": [
            "\n"
          ]
        }
      ]
    },
    {
      "cell_type": "code",
      "source": [
        "# Get output with paper prompting\n",
        "i = 0\n",
        "pretrained_outputs_paper_prompt = []\n",
        "for example in aime24:\n",
        "    print(f\"processing {i}-th example\")\n",
        "    text = tokenizer.apply_chat_template([\n",
        "        {'role': 'system', 'content': SYSTEM_PROMPT},\n",
        "        {\"role\" : \"user\", \"content\" : example['problem']},\n",
        "    ], tokenize = False, add_generation_prompt = True)\n",
        "\n",
        "    output2 = model.fast_generate(\n",
        "      [text],\n",
        "      sampling_params = sampling_params,\n",
        "      lora_request = None,\n",
        "      )[0].outputs[0].text\n",
        "    pretrained_outputs_paper_prompt.append(output2)\n",
        "    i +=1\n",
        "\n",
        "paper_prompt_answers, paper_prompt_accuracy = extract_answers(pretrained_outputs_paper_prompt)\n",
        ""
      ],
      "metadata": {
        "id": "7US8EuCgpzIj",
        "colab": {
          "base_uri": "https://localhost:8080/"
        },
        "outputId": "aea57f4d-edcf-4fb3-bc23-82b95e71210f"
      },
      "execution_count": 59,
      "outputs": [
        {
          "output_type": "stream",
          "name": "stdout",
          "text": [
            "processing 0-th example\n"
          ]
        },
        {
          "output_type": "stream",
          "name": "stderr",
          "text": [
            "\n",
            "\n",
            "\n",
            "Processed prompts:   0%|          | 0/1 [00:00<?, ?it/s, est. speed input: 0.00 toks/s, output: 0.00 toks/s]\u001b[A\u001b[A\u001b[A\n",
            "\n",
            "\n",
            "Processed prompts: 100%|██████████| 1/1 [02:18<00:00, 138.60s/it, est. speed input: 1.54 toks/s, output: 57.57 toks/s]\n"
          ]
        },
        {
          "output_type": "stream",
          "name": "stdout",
          "text": [
            "processing 1-th example\n"
          ]
        },
        {
          "output_type": "stream",
          "name": "stderr",
          "text": [
            "\n",
            "\n",
            "\n",
            "Processed prompts:   0%|          | 0/1 [00:00<?, ?it/s, est. speed input: 0.00 toks/s, output: 0.00 toks/s]\u001b[A\u001b[A\u001b[A\n",
            "\n",
            "\n",
            "Processed prompts: 100%|██████████| 1/1 [02:18<00:00, 138.31s/it, est. speed input: 1.35 toks/s, output: 57.88 toks/s]\n"
          ]
        },
        {
          "output_type": "stream",
          "name": "stdout",
          "text": [
            "processing 2-th example\n"
          ]
        },
        {
          "output_type": "stream",
          "name": "stderr",
          "text": [
            "\n",
            "\n",
            "\n",
            "Processed prompts:   0%|          | 0/1 [00:00<?, ?it/s, est. speed input: 0.00 toks/s, output: 0.00 toks/s]\u001b[A\u001b[A\u001b[A\n",
            "\n",
            "\n",
            "Processed prompts: 100%|██████████| 1/1 [02:19<00:00, 139.05s/it, est. speed input: 1.13 toks/s, output: 57.79 toks/s]\n"
          ]
        },
        {
          "output_type": "stream",
          "name": "stdout",
          "text": [
            "processing 3-th example\n"
          ]
        },
        {
          "output_type": "stream",
          "name": "stderr",
          "text": [
            "\n",
            "\n",
            "\n",
            "Processed prompts:   0%|          | 0/1 [00:00<?, ?it/s, est. speed input: 0.00 toks/s, output: 0.00 toks/s]\u001b[A\u001b[A\u001b[A\n",
            "\n",
            "\n",
            "Processed prompts: 100%|██████████| 1/1 [02:19<00:00, 139.08s/it, est. speed input: 1.16 toks/s, output: 57.74 toks/s]\n"
          ]
        },
        {
          "output_type": "stream",
          "name": "stdout",
          "text": [
            "processing 4-th example\n"
          ]
        },
        {
          "output_type": "stream",
          "name": "stderr",
          "text": [
            "\n",
            "\n",
            "\n",
            "Processed prompts:   0%|          | 0/1 [00:00<?, ?it/s, est. speed input: 0.00 toks/s, output: 0.00 toks/s]\u001b[A\u001b[A\u001b[A\n",
            "\n",
            "\n",
            "Processed prompts: 100%|██████████| 1/1 [02:19<00:00, 139.27s/it, est. speed input: 1.05 toks/s, output: 57.78 toks/s]\n"
          ]
        },
        {
          "output_type": "stream",
          "name": "stdout",
          "text": [
            "processing 5-th example\n"
          ]
        },
        {
          "output_type": "stream",
          "name": "stderr",
          "text": [
            "\n",
            "\n",
            "\n",
            "Processed prompts:   0%|          | 0/1 [00:00<?, ?it/s, est. speed input: 0.00 toks/s, output: 0.00 toks/s]\u001b[A\u001b[A\u001b[A\n",
            "\n",
            "\n",
            "Processed prompts: 100%|██████████| 1/1 [02:18<00:00, 138.07s/it, est. speed input: 1.68 toks/s, output: 57.66 toks/s]\n"
          ]
        },
        {
          "output_type": "stream",
          "name": "stdout",
          "text": [
            "processing 6-th example\n"
          ]
        },
        {
          "output_type": "stream",
          "name": "stderr",
          "text": [
            "\n",
            "\n",
            "\n",
            "Processed prompts:   0%|          | 0/1 [00:00<?, ?it/s, est. speed input: 0.00 toks/s, output: 0.00 toks/s]\u001b[A\u001b[A\u001b[A\n",
            "\n",
            "\n",
            "Processed prompts: 100%|██████████| 1/1 [02:18<00:00, 138.74s/it, est. speed input: 1.28 toks/s, output: 57.78 toks/s]\n"
          ]
        },
        {
          "output_type": "stream",
          "name": "stdout",
          "text": [
            "processing 7-th example\n"
          ]
        },
        {
          "output_type": "stream",
          "name": "stderr",
          "text": [
            "\n",
            "\n",
            "\n",
            "Processed prompts:   0%|          | 0/1 [00:00<?, ?it/s, est. speed input: 0.00 toks/s, output: 0.00 toks/s]\u001b[A\u001b[A\u001b[A\n",
            "\n",
            "\n",
            "Processed prompts: 100%|██████████| 1/1 [02:19<00:00, 139.28s/it, est. speed input: 0.93 toks/s, output: 57.89 toks/s]\n"
          ]
        },
        {
          "output_type": "stream",
          "name": "stdout",
          "text": [
            "processing 8-th example\n"
          ]
        },
        {
          "output_type": "stream",
          "name": "stderr",
          "text": [
            "\n",
            "\n",
            "\n",
            "Processed prompts:   0%|          | 0/1 [00:00<?, ?it/s, est. speed input: 0.00 toks/s, output: 0.00 toks/s]\u001b[A\u001b[A\u001b[A\n",
            "\n",
            "\n",
            "Processed prompts: 100%|██████████| 1/1 [02:18<00:00, 138.24s/it, est. speed input: 1.29 toks/s, output: 57.97 toks/s]\n"
          ]
        },
        {
          "output_type": "stream",
          "name": "stdout",
          "text": [
            "processing 9-th example\n"
          ]
        },
        {
          "output_type": "stream",
          "name": "stderr",
          "text": [
            "\n",
            "\n",
            "\n",
            "Processed prompts:   0%|          | 0/1 [00:00<?, ?it/s, est. speed input: 0.00 toks/s, output: 0.00 toks/s]\u001b[A\u001b[A\u001b[A\n",
            "\n",
            "\n",
            "Processed prompts: 100%|██████████| 1/1 [01:19<00:00, 79.36s/it, est. speed input: 2.58 toks/s, output: 59.25 toks/s]\n"
          ]
        },
        {
          "output_type": "stream",
          "name": "stdout",
          "text": [
            "processing 10-th example\n"
          ]
        },
        {
          "output_type": "stream",
          "name": "stderr",
          "text": [
            "\n",
            "\n",
            "\n",
            "Processed prompts:   0%|          | 0/1 [00:00<?, ?it/s, est. speed input: 0.00 toks/s, output: 0.00 toks/s]\u001b[A\u001b[A\u001b[A\n",
            "\n",
            "\n",
            "Processed prompts: 100%|██████████| 1/1 [02:18<00:00, 138.77s/it, est. speed input: 1.14 toks/s, output: 57.91 toks/s]\n"
          ]
        },
        {
          "output_type": "stream",
          "name": "stdout",
          "text": [
            "processing 11-th example\n"
          ]
        },
        {
          "output_type": "stream",
          "name": "stderr",
          "text": [
            "\n",
            "\n",
            "\n",
            "Processed prompts:   0%|          | 0/1 [00:00<?, ?it/s, est. speed input: 0.00 toks/s, output: 0.00 toks/s]\u001b[A\u001b[A\u001b[A\n",
            "\n",
            "\n",
            "Processed prompts: 100%|██████████| 1/1 [02:16<00:00, 136.91s/it, est. speed input: 2.17 toks/s, output: 57.67 toks/s]\n"
          ]
        },
        {
          "output_type": "stream",
          "name": "stdout",
          "text": [
            "processing 12-th example\n"
          ]
        },
        {
          "output_type": "stream",
          "name": "stderr",
          "text": [
            "\n",
            "\n",
            "\n",
            "Processed prompts:   0%|          | 0/1 [00:00<?, ?it/s, est. speed input: 0.00 toks/s, output: 0.00 toks/s]\u001b[A\u001b[A\u001b[A\n",
            "\n",
            "\n",
            "Processed prompts: 100%|██████████| 1/1 [01:07<00:00, 67.11s/it, est. speed input: 1.91 toks/s, output: 59.34 toks/s]\n"
          ]
        },
        {
          "output_type": "stream",
          "name": "stdout",
          "text": [
            "processing 13-th example\n"
          ]
        },
        {
          "output_type": "stream",
          "name": "stderr",
          "text": [
            "\n",
            "\n",
            "\n",
            "Processed prompts:   0%|          | 0/1 [00:00<?, ?it/s, est. speed input: 0.00 toks/s, output: 0.00 toks/s]\u001b[A\u001b[A\u001b[A\n",
            "\n",
            "\n",
            "Processed prompts: 100%|██████████| 1/1 [02:18<00:00, 138.87s/it, est. speed input: 1.25 toks/s, output: 57.75 toks/s]\n"
          ]
        },
        {
          "output_type": "stream",
          "name": "stdout",
          "text": [
            "processing 14-th example\n"
          ]
        },
        {
          "output_type": "stream",
          "name": "stderr",
          "text": [
            "\n",
            "\n",
            "\n",
            "Processed prompts:   0%|          | 0/1 [00:00<?, ?it/s, est. speed input: 0.00 toks/s, output: 0.00 toks/s]\u001b[A\u001b[A\u001b[A\n",
            "\n",
            "\n",
            "Processed prompts: 100%|██████████| 1/1 [02:19<00:00, 139.10s/it, est. speed input: 1.19 toks/s, output: 57.72 toks/s]\n"
          ]
        },
        {
          "output_type": "stream",
          "name": "stdout",
          "text": [
            "processing 15-th example\n"
          ]
        },
        {
          "output_type": "stream",
          "name": "stderr",
          "text": [
            "\n",
            "\n",
            "\n",
            "Processed prompts:   0%|          | 0/1 [00:00<?, ?it/s, est. speed input: 0.00 toks/s, output: 0.00 toks/s]\u001b[A\u001b[A\u001b[A\n",
            "\n",
            "\n",
            "Processed prompts: 100%|██████████| 1/1 [02:18<00:00, 138.62s/it, est. speed input: 1.39 toks/s, output: 57.71 toks/s]\n"
          ]
        },
        {
          "output_type": "stream",
          "name": "stdout",
          "text": [
            "processing 16-th example\n"
          ]
        },
        {
          "output_type": "stream",
          "name": "stderr",
          "text": [
            "\n",
            "\n",
            "\n",
            "Processed prompts:   0%|          | 0/1 [00:00<?, ?it/s, est. speed input: 0.00 toks/s, output: 0.00 toks/s]\u001b[A\u001b[A\u001b[A\n",
            "\n",
            "\n",
            "Processed prompts: 100%|██████████| 1/1 [02:19<00:00, 139.24s/it, est. speed input: 0.96 toks/s, output: 57.89 toks/s]\n"
          ]
        },
        {
          "output_type": "stream",
          "name": "stdout",
          "text": [
            "processing 17-th example\n"
          ]
        },
        {
          "output_type": "stream",
          "name": "stderr",
          "text": [
            "\n",
            "\n",
            "\n",
            "Processed prompts:   0%|          | 0/1 [2:01:41<?, ?it/s, est. speed input: 0.00 toks/s, output: 0.00 toks/s]\n",
            "Processed prompts:   0%|          | 0/1 [45:48<?, ?it/s, est. speed input: 0.00 toks/s, output: 0.00 toks/s]\n",
            "\n",
            "\n",
            "\n",
            "Processed prompts: 100%|██████████| 1/1 [02:19<00:00, 139.88s/it, est. speed input: 1.19 toks/s, output: 57.38 toks/s]\n"
          ]
        },
        {
          "output_type": "stream",
          "name": "stdout",
          "text": [
            "processing 18-th example\n"
          ]
        },
        {
          "output_type": "stream",
          "name": "stderr",
          "text": [
            "Processed prompts: 100%|██████████| 1/1 [02:17<00:00, 137.19s/it, est. speed input: 2.03 toks/s, output: 57.69 toks/s]\n"
          ]
        },
        {
          "output_type": "stream",
          "name": "stdout",
          "text": [
            "processing 19-th example\n"
          ]
        },
        {
          "output_type": "stream",
          "name": "stderr",
          "text": [
            "Processed prompts: 100%|██████████| 1/1 [02:19<00:00, 139.47s/it, est. speed input: 1.01 toks/s, output: 57.73 toks/s]\n"
          ]
        },
        {
          "output_type": "stream",
          "name": "stdout",
          "text": [
            "processing 20-th example\n"
          ]
        },
        {
          "output_type": "stream",
          "name": "stderr",
          "text": [
            "Processed prompts: 100%|██████████| 1/1 [02:17<00:00, 137.85s/it, est. speed input: 1.65 toks/s, output: 57.78 toks/s]\n"
          ]
        },
        {
          "output_type": "stream",
          "name": "stdout",
          "text": [
            "processing 21-th example\n"
          ]
        },
        {
          "output_type": "stream",
          "name": "stderr",
          "text": [
            "Processed prompts: 100%|██████████| 1/1 [02:17<00:00, 137.78s/it, est. speed input: 1.89 toks/s, output: 57.58 toks/s]\n"
          ]
        },
        {
          "output_type": "stream",
          "name": "stdout",
          "text": [
            "processing 22-th example\n"
          ]
        },
        {
          "output_type": "stream",
          "name": "stderr",
          "text": [
            "Processed prompts: 100%|██████████| 1/1 [02:19<00:00, 139.01s/it, est. speed input: 1.13 toks/s, output: 57.81 toks/s]\n"
          ]
        },
        {
          "output_type": "stream",
          "name": "stdout",
          "text": [
            "processing 23-th example\n"
          ]
        },
        {
          "output_type": "stream",
          "name": "stderr",
          "text": [
            "Processed prompts: 100%|██████████| 1/1 [02:17<00:00, 137.87s/it, est. speed input: 1.60 toks/s, output: 57.83 toks/s]\n"
          ]
        },
        {
          "output_type": "stream",
          "name": "stdout",
          "text": [
            "processing 24-th example\n"
          ]
        },
        {
          "output_type": "stream",
          "name": "stderr",
          "text": [
            "Processed prompts: 100%|██████████| 1/1 [01:30<00:00, 90.08s/it, est. speed input: 2.49 toks/s, output: 58.92 toks/s]\n"
          ]
        },
        {
          "output_type": "stream",
          "name": "stdout",
          "text": [
            "processing 25-th example\n"
          ]
        },
        {
          "output_type": "stream",
          "name": "stderr",
          "text": [
            "Processed prompts: 100%|██████████| 1/1 [02:19<00:00, 139.00s/it, est. speed input: 1.03 toks/s, output: 57.91 toks/s]\n"
          ]
        },
        {
          "output_type": "stream",
          "name": "stdout",
          "text": [
            "processing 26-th example\n"
          ]
        },
        {
          "output_type": "stream",
          "name": "stderr",
          "text": [
            "Processed prompts: 100%|██████████| 1/1 [02:19<00:00, 139.20s/it, est. speed input: 1.02 toks/s, output: 57.84 toks/s]\n"
          ]
        },
        {
          "output_type": "stream",
          "name": "stdout",
          "text": [
            "processing 27-th example\n"
          ]
        },
        {
          "output_type": "stream",
          "name": "stderr",
          "text": [
            "Processed prompts: 100%|██████████| 1/1 [02:19<00:00, 139.07s/it, est. speed input: 1.09 toks/s, output: 57.83 toks/s]\n"
          ]
        },
        {
          "output_type": "stream",
          "name": "stdout",
          "text": [
            "processing 28-th example\n"
          ]
        },
        {
          "output_type": "stream",
          "name": "stderr",
          "text": [
            "Processed prompts: 100%|██████████| 1/1 [02:17<00:00, 137.87s/it, est. speed input: 1.75 toks/s, output: 57.68 toks/s]\n"
          ]
        },
        {
          "output_type": "stream",
          "name": "stdout",
          "text": [
            "processing 29-th example\n"
          ]
        },
        {
          "output_type": "stream",
          "name": "stderr",
          "text": [
            "Processed prompts: 100%|██████████| 1/1 [02:19<00:00, 139.04s/it, est. speed input: 1.31 toks/s, output: 57.62 toks/s]\n"
          ]
        }
      ]
    },
    {
      "cell_type": "markdown",
      "source": [
        "# Saving Results"
      ],
      "metadata": {
        "id": "Zeg9_fzbgDkB"
      }
    },
    {
      "cell_type": "code",
      "source": [
        "print(paper_prompt_answers[0])"
      ],
      "metadata": {
        "id": "oTjDOIVhDy4-"
      },
      "execution_count": null,
      "outputs": []
    },
    {
      "cell_type": "code",
      "source": [
        "import csv\n",
        "\n",
        "def save_results(res_1, res_2, col_names):\n",
        "  with open('output.csv', 'w', newline='') as csvfile:\n",
        "      writer = csv.writer(csvfile)\n",
        "      writer.writerow(['Correct Answer', col_names[0], col_names[1]])\n",
        "      for i in range(len(res_1)):\n",
        "          writer.writerow([res_1[i]['answer'], res_1[i]['pred_ans'], res_2[i]['pred_ans']])\n",
        "\n",
        "col_names = ['Default Prompt Answers', 'Paper Prompt Answers']\n",
        "save_results(default_prompt_answers, paper_prompt_answers, col_names)"
      ],
      "metadata": {
        "colab": {
          "base_uri": "https://localhost:8080/",
          "height": 176
        },
        "id": "Rgtc5TVMfogH",
        "outputId": "260f0631-b436-4227-baad-5aecf518c35a"
      },
      "execution_count": 1,
      "outputs": [
        {
          "output_type": "error",
          "ename": "NameError",
          "evalue": "name 'default_prompt_answers' is not defined",
          "traceback": [
            "\u001b[0;31m---------------------------------------------------------------------------\u001b[0m",
            "\u001b[0;31mNameError\u001b[0m                                 Traceback (most recent call last)",
            "\u001b[0;32m<ipython-input-1-6efc7a87daec>\u001b[0m in \u001b[0;36m<cell line: 0>\u001b[0;34m()\u001b[0m\n\u001b[1;32m      9\u001b[0m \u001b[0;34m\u001b[0m\u001b[0m\n\u001b[1;32m     10\u001b[0m \u001b[0mcol_names\u001b[0m \u001b[0;34m=\u001b[0m \u001b[0;34m[\u001b[0m\u001b[0;34m'Default Prompt Answers'\u001b[0m\u001b[0;34m,\u001b[0m \u001b[0;34m'Paper Prompt Answers'\u001b[0m\u001b[0;34m]\u001b[0m\u001b[0;34m\u001b[0m\u001b[0;34m\u001b[0m\u001b[0m\n\u001b[0;32m---> 11\u001b[0;31m \u001b[0msave_results\u001b[0m\u001b[0;34m(\u001b[0m\u001b[0mdefault_prompt_answers\u001b[0m\u001b[0;34m,\u001b[0m \u001b[0mpaper_prompt_answers\u001b[0m\u001b[0;34m,\u001b[0m \u001b[0mcol_names\u001b[0m\u001b[0;34m)\u001b[0m\u001b[0;34m\u001b[0m\u001b[0;34m\u001b[0m\u001b[0m\n\u001b[0m",
            "\u001b[0;31mNameError\u001b[0m: name 'default_prompt_answers' is not defined"
          ]
        }
      ]
    },
    {
      "cell_type": "code",
      "source": [],
      "metadata": {
        "id": "ldkOXADnGnvw"
      },
      "execution_count": null,
      "outputs": []
    },
    {
      "cell_type": "code",
      "source": [
        "import json\n",
        "\n",
        "def save_reasoning(data, file_name):\n",
        "  # Writing dictionary to a JSON file\n",
        "  with open(file_name, 'w') as json_file:\n",
        "    json.dump(data, json_file, indent=4)"
      ],
      "metadata": {
        "id": "3MZ1KgL1agd6"
      },
      "execution_count": 57,
      "outputs": []
    },
    {
      "cell_type": "code",
      "source": [
        "save_reasoning(pretrained_outputs_default, 'default_prompt_reasoning.json')"
      ],
      "metadata": {
        "id": "NCkkGNo7a97H"
      },
      "execution_count": 58,
      "outputs": []
    },
    {
      "cell_type": "code",
      "source": [
        "save_reasoning(pretrained_outputs_paper_prompt, 'paper_prompt_reasoning.json')"
      ],
      "metadata": {
        "id": "N2fkpeOrbSJG"
      },
      "execution_count": 61,
      "outputs": []
    }
  ],
  "metadata": {
    "accelerator": "GPU",
    "colab": {
      "gpuType": "T4",
      "provenance": []
    },
    "kernelspec": {
      "display_name": "Python 3",
      "name": "python3"
    },
    "language_info": {
      "name": "python"
    },
    "widgets": {
      "application/vnd.jupyter.widget-state+json": {
        "c216433946d145668891269477d650e0": {
          "model_module": "@jupyter-widgets/controls",
          "model_name": "HBoxModel",
          "model_module_version": "1.5.0",
          "state": {
            "_dom_classes": [],
            "_model_module": "@jupyter-widgets/controls",
            "_model_module_version": "1.5.0",
            "_model_name": "HBoxModel",
            "_view_count": null,
            "_view_module": "@jupyter-widgets/controls",
            "_view_module_version": "1.5.0",
            "_view_name": "HBoxView",
            "box_style": "",
            "children": [
              "IPY_MODEL_b715fbf75e0048409b79f397b58dd5e9",
              "IPY_MODEL_81f2930dcac84c88801f8562ea46d21e",
              "IPY_MODEL_b678e9b2c0e945c9b0019ed6826a1e10"
            ],
            "layout": "IPY_MODEL_562db5883f24477580311017ccca7aa5"
          }
        },
        "b715fbf75e0048409b79f397b58dd5e9": {
          "model_module": "@jupyter-widgets/controls",
          "model_name": "HTMLModel",
          "model_module_version": "1.5.0",
          "state": {
            "_dom_classes": [],
            "_model_module": "@jupyter-widgets/controls",
            "_model_module_version": "1.5.0",
            "_model_name": "HTMLModel",
            "_view_count": null,
            "_view_module": "@jupyter-widgets/controls",
            "_view_module_version": "1.5.0",
            "_view_name": "HTMLView",
            "description": "",
            "description_tooltip": null,
            "layout": "IPY_MODEL_e76ec1a0f05b48eeb8bbe595d8ff7019",
            "placeholder": "​",
            "style": "IPY_MODEL_b3b2d8933cc94cb0b699cbad641a3dde",
            "value": ""
          }
        },
        "81f2930dcac84c88801f8562ea46d21e": {
          "model_module": "@jupyter-widgets/controls",
          "model_name": "FloatProgressModel",
          "model_module_version": "1.5.0",
          "state": {
            "_dom_classes": [],
            "_model_module": "@jupyter-widgets/controls",
            "_model_module_version": "1.5.0",
            "_model_name": "FloatProgressModel",
            "_view_count": null,
            "_view_module": "@jupyter-widgets/controls",
            "_view_module_version": "1.5.0",
            "_view_name": "ProgressView",
            "bar_style": "success",
            "description": "",
            "description_tooltip": null,
            "layout": "IPY_MODEL_d7807414f2ee49b1bc29f11b2974920b",
            "max": 1,
            "min": 0,
            "orientation": "horizontal",
            "style": "IPY_MODEL_769bbe3df1204decb7c17880dc110761",
            "value": 1
          }
        },
        "b678e9b2c0e945c9b0019ed6826a1e10": {
          "model_module": "@jupyter-widgets/controls",
          "model_name": "HTMLModel",
          "model_module_version": "1.5.0",
          "state": {
            "_dom_classes": [],
            "_model_module": "@jupyter-widgets/controls",
            "_model_module_version": "1.5.0",
            "_model_name": "HTMLModel",
            "_view_count": null,
            "_view_module": "@jupyter-widgets/controls",
            "_view_module_version": "1.5.0",
            "_view_name": "HTMLView",
            "description": "",
            "description_tooltip": null,
            "layout": "IPY_MODEL_46935bcfbd714481904e3b71ef98d074",
            "placeholder": "​",
            "style": "IPY_MODEL_248eface162e4ec38e4319cc88513305",
            "value": "Loading safetensors checkpoint shards: 100% Completed | 1/1 [00:00&lt;00:00,  1.33it/s]\n"
          }
        },
        "562db5883f24477580311017ccca7aa5": {
          "model_module": "@jupyter-widgets/base",
          "model_name": "LayoutModel",
          "model_module_version": "1.2.0",
          "state": {
            "_model_module": "@jupyter-widgets/base",
            "_model_module_version": "1.2.0",
            "_model_name": "LayoutModel",
            "_view_count": null,
            "_view_module": "@jupyter-widgets/base",
            "_view_module_version": "1.2.0",
            "_view_name": "LayoutView",
            "align_content": null,
            "align_items": null,
            "align_self": null,
            "border": null,
            "bottom": null,
            "display": null,
            "flex": null,
            "flex_flow": null,
            "grid_area": null,
            "grid_auto_columns": null,
            "grid_auto_flow": null,
            "grid_auto_rows": null,
            "grid_column": null,
            "grid_gap": null,
            "grid_row": null,
            "grid_template_areas": null,
            "grid_template_columns": null,
            "grid_template_rows": null,
            "height": null,
            "justify_content": null,
            "justify_items": null,
            "left": null,
            "margin": null,
            "max_height": null,
            "max_width": null,
            "min_height": null,
            "min_width": null,
            "object_fit": null,
            "object_position": null,
            "order": null,
            "overflow": null,
            "overflow_x": null,
            "overflow_y": null,
            "padding": null,
            "right": null,
            "top": null,
            "visibility": null,
            "width": null
          }
        },
        "e76ec1a0f05b48eeb8bbe595d8ff7019": {
          "model_module": "@jupyter-widgets/base",
          "model_name": "LayoutModel",
          "model_module_version": "1.2.0",
          "state": {
            "_model_module": "@jupyter-widgets/base",
            "_model_module_version": "1.2.0",
            "_model_name": "LayoutModel",
            "_view_count": null,
            "_view_module": "@jupyter-widgets/base",
            "_view_module_version": "1.2.0",
            "_view_name": "LayoutView",
            "align_content": null,
            "align_items": null,
            "align_self": null,
            "border": null,
            "bottom": null,
            "display": null,
            "flex": null,
            "flex_flow": null,
            "grid_area": null,
            "grid_auto_columns": null,
            "grid_auto_flow": null,
            "grid_auto_rows": null,
            "grid_column": null,
            "grid_gap": null,
            "grid_row": null,
            "grid_template_areas": null,
            "grid_template_columns": null,
            "grid_template_rows": null,
            "height": null,
            "justify_content": null,
            "justify_items": null,
            "left": null,
            "margin": null,
            "max_height": null,
            "max_width": null,
            "min_height": null,
            "min_width": null,
            "object_fit": null,
            "object_position": null,
            "order": null,
            "overflow": null,
            "overflow_x": null,
            "overflow_y": null,
            "padding": null,
            "right": null,
            "top": null,
            "visibility": null,
            "width": null
          }
        },
        "b3b2d8933cc94cb0b699cbad641a3dde": {
          "model_module": "@jupyter-widgets/controls",
          "model_name": "DescriptionStyleModel",
          "model_module_version": "1.5.0",
          "state": {
            "_model_module": "@jupyter-widgets/controls",
            "_model_module_version": "1.5.0",
            "_model_name": "DescriptionStyleModel",
            "_view_count": null,
            "_view_module": "@jupyter-widgets/base",
            "_view_module_version": "1.2.0",
            "_view_name": "StyleView",
            "description_width": ""
          }
        },
        "d7807414f2ee49b1bc29f11b2974920b": {
          "model_module": "@jupyter-widgets/base",
          "model_name": "LayoutModel",
          "model_module_version": "1.2.0",
          "state": {
            "_model_module": "@jupyter-widgets/base",
            "_model_module_version": "1.2.0",
            "_model_name": "LayoutModel",
            "_view_count": null,
            "_view_module": "@jupyter-widgets/base",
            "_view_module_version": "1.2.0",
            "_view_name": "LayoutView",
            "align_content": null,
            "align_items": null,
            "align_self": null,
            "border": null,
            "bottom": null,
            "display": null,
            "flex": null,
            "flex_flow": null,
            "grid_area": null,
            "grid_auto_columns": null,
            "grid_auto_flow": null,
            "grid_auto_rows": null,
            "grid_column": null,
            "grid_gap": null,
            "grid_row": null,
            "grid_template_areas": null,
            "grid_template_columns": null,
            "grid_template_rows": null,
            "height": null,
            "justify_content": null,
            "justify_items": null,
            "left": null,
            "margin": null,
            "max_height": null,
            "max_width": null,
            "min_height": null,
            "min_width": null,
            "object_fit": null,
            "object_position": null,
            "order": null,
            "overflow": null,
            "overflow_x": null,
            "overflow_y": null,
            "padding": null,
            "right": null,
            "top": null,
            "visibility": null,
            "width": null
          }
        },
        "769bbe3df1204decb7c17880dc110761": {
          "model_module": "@jupyter-widgets/controls",
          "model_name": "ProgressStyleModel",
          "model_module_version": "1.5.0",
          "state": {
            "_model_module": "@jupyter-widgets/controls",
            "_model_module_version": "1.5.0",
            "_model_name": "ProgressStyleModel",
            "_view_count": null,
            "_view_module": "@jupyter-widgets/base",
            "_view_module_version": "1.2.0",
            "_view_name": "StyleView",
            "bar_color": null,
            "description_width": ""
          }
        },
        "46935bcfbd714481904e3b71ef98d074": {
          "model_module": "@jupyter-widgets/base",
          "model_name": "LayoutModel",
          "model_module_version": "1.2.0",
          "state": {
            "_model_module": "@jupyter-widgets/base",
            "_model_module_version": "1.2.0",
            "_model_name": "LayoutModel",
            "_view_count": null,
            "_view_module": "@jupyter-widgets/base",
            "_view_module_version": "1.2.0",
            "_view_name": "LayoutView",
            "align_content": null,
            "align_items": null,
            "align_self": null,
            "border": null,
            "bottom": null,
            "display": null,
            "flex": null,
            "flex_flow": null,
            "grid_area": null,
            "grid_auto_columns": null,
            "grid_auto_flow": null,
            "grid_auto_rows": null,
            "grid_column": null,
            "grid_gap": null,
            "grid_row": null,
            "grid_template_areas": null,
            "grid_template_columns": null,
            "grid_template_rows": null,
            "height": null,
            "justify_content": null,
            "justify_items": null,
            "left": null,
            "margin": null,
            "max_height": null,
            "max_width": null,
            "min_height": null,
            "min_width": null,
            "object_fit": null,
            "object_position": null,
            "order": null,
            "overflow": null,
            "overflow_x": null,
            "overflow_y": null,
            "padding": null,
            "right": null,
            "top": null,
            "visibility": null,
            "width": null
          }
        },
        "248eface162e4ec38e4319cc88513305": {
          "model_module": "@jupyter-widgets/controls",
          "model_name": "DescriptionStyleModel",
          "model_module_version": "1.5.0",
          "state": {
            "_model_module": "@jupyter-widgets/controls",
            "_model_module_version": "1.5.0",
            "_model_name": "DescriptionStyleModel",
            "_view_count": null,
            "_view_module": "@jupyter-widgets/base",
            "_view_module_version": "1.2.0",
            "_view_name": "StyleView",
            "description_width": ""
          }
        },
        "b5cde7228a014989a7057ea50db5399a": {
          "model_module": "@jupyter-widgets/controls",
          "model_name": "HBoxModel",
          "model_module_version": "1.5.0",
          "state": {
            "_dom_classes": [],
            "_model_module": "@jupyter-widgets/controls",
            "_model_module_version": "1.5.0",
            "_model_name": "HBoxModel",
            "_view_count": null,
            "_view_module": "@jupyter-widgets/controls",
            "_view_module_version": "1.5.0",
            "_view_name": "HBoxView",
            "box_style": "",
            "children": [
              "IPY_MODEL_dd2c342d4c32426f9a6a31b4cc07c241",
              "IPY_MODEL_b628d88bc056498c8385ea3a606c7aca",
              "IPY_MODEL_79e987d3d6be49d991ef3a05de81ed33"
            ],
            "layout": "IPY_MODEL_59033902ff654786b8bc7c6817a9e527"
          }
        },
        "dd2c342d4c32426f9a6a31b4cc07c241": {
          "model_module": "@jupyter-widgets/controls",
          "model_name": "HTMLModel",
          "model_module_version": "1.5.0",
          "state": {
            "_dom_classes": [],
            "_model_module": "@jupyter-widgets/controls",
            "_model_module_version": "1.5.0",
            "_model_name": "HTMLModel",
            "_view_count": null,
            "_view_module": "@jupyter-widgets/controls",
            "_view_module_version": "1.5.0",
            "_view_name": "HTMLView",
            "description": "",
            "description_tooltip": null,
            "layout": "IPY_MODEL_bb7ff4c8468e4919b950660d019c20f9",
            "placeholder": "​",
            "style": "IPY_MODEL_16bae5d1741c46fab988abf9dfe2d40c",
            "value": ""
          }
        },
        "b628d88bc056498c8385ea3a606c7aca": {
          "model_module": "@jupyter-widgets/controls",
          "model_name": "FloatProgressModel",
          "model_module_version": "1.5.0",
          "state": {
            "_dom_classes": [],
            "_model_module": "@jupyter-widgets/controls",
            "_model_module_version": "1.5.0",
            "_model_name": "FloatProgressModel",
            "_view_count": null,
            "_view_module": "@jupyter-widgets/controls",
            "_view_module_version": "1.5.0",
            "_view_name": "ProgressView",
            "bar_style": "success",
            "description": "",
            "description_tooltip": null,
            "layout": "IPY_MODEL_dd75c82a6f7d45da9e3365c209dfaf43",
            "max": 1,
            "min": 0,
            "orientation": "horizontal",
            "style": "IPY_MODEL_6fdba554f0034654975bd4dc9ecc463c",
            "value": 1
          }
        },
        "79e987d3d6be49d991ef3a05de81ed33": {
          "model_module": "@jupyter-widgets/controls",
          "model_name": "HTMLModel",
          "model_module_version": "1.5.0",
          "state": {
            "_dom_classes": [],
            "_model_module": "@jupyter-widgets/controls",
            "_model_module_version": "1.5.0",
            "_model_name": "HTMLModel",
            "_view_count": null,
            "_view_module": "@jupyter-widgets/controls",
            "_view_module_version": "1.5.0",
            "_view_name": "HTMLView",
            "description": "",
            "description_tooltip": null,
            "layout": "IPY_MODEL_1274b6e404474ad6a4719d293c9de4e4",
            "placeholder": "​",
            "style": "IPY_MODEL_1849becd8eb64a69aec7eef10b27f887",
            "value": "Loading safetensors checkpoint shards: 100% Completed | 1/1 [00:00&lt;00:00,  1.39it/s]\n"
          }
        },
        "59033902ff654786b8bc7c6817a9e527": {
          "model_module": "@jupyter-widgets/base",
          "model_name": "LayoutModel",
          "model_module_version": "1.2.0",
          "state": {
            "_model_module": "@jupyter-widgets/base",
            "_model_module_version": "1.2.0",
            "_model_name": "LayoutModel",
            "_view_count": null,
            "_view_module": "@jupyter-widgets/base",
            "_view_module_version": "1.2.0",
            "_view_name": "LayoutView",
            "align_content": null,
            "align_items": null,
            "align_self": null,
            "border": null,
            "bottom": null,
            "display": null,
            "flex": null,
            "flex_flow": null,
            "grid_area": null,
            "grid_auto_columns": null,
            "grid_auto_flow": null,
            "grid_auto_rows": null,
            "grid_column": null,
            "grid_gap": null,
            "grid_row": null,
            "grid_template_areas": null,
            "grid_template_columns": null,
            "grid_template_rows": null,
            "height": null,
            "justify_content": null,
            "justify_items": null,
            "left": null,
            "margin": null,
            "max_height": null,
            "max_width": null,
            "min_height": null,
            "min_width": null,
            "object_fit": null,
            "object_position": null,
            "order": null,
            "overflow": null,
            "overflow_x": null,
            "overflow_y": null,
            "padding": null,
            "right": null,
            "top": null,
            "visibility": null,
            "width": null
          }
        },
        "bb7ff4c8468e4919b950660d019c20f9": {
          "model_module": "@jupyter-widgets/base",
          "model_name": "LayoutModel",
          "model_module_version": "1.2.0",
          "state": {
            "_model_module": "@jupyter-widgets/base",
            "_model_module_version": "1.2.0",
            "_model_name": "LayoutModel",
            "_view_count": null,
            "_view_module": "@jupyter-widgets/base",
            "_view_module_version": "1.2.0",
            "_view_name": "LayoutView",
            "align_content": null,
            "align_items": null,
            "align_self": null,
            "border": null,
            "bottom": null,
            "display": null,
            "flex": null,
            "flex_flow": null,
            "grid_area": null,
            "grid_auto_columns": null,
            "grid_auto_flow": null,
            "grid_auto_rows": null,
            "grid_column": null,
            "grid_gap": null,
            "grid_row": null,
            "grid_template_areas": null,
            "grid_template_columns": null,
            "grid_template_rows": null,
            "height": null,
            "justify_content": null,
            "justify_items": null,
            "left": null,
            "margin": null,
            "max_height": null,
            "max_width": null,
            "min_height": null,
            "min_width": null,
            "object_fit": null,
            "object_position": null,
            "order": null,
            "overflow": null,
            "overflow_x": null,
            "overflow_y": null,
            "padding": null,
            "right": null,
            "top": null,
            "visibility": null,
            "width": null
          }
        },
        "16bae5d1741c46fab988abf9dfe2d40c": {
          "model_module": "@jupyter-widgets/controls",
          "model_name": "DescriptionStyleModel",
          "model_module_version": "1.5.0",
          "state": {
            "_model_module": "@jupyter-widgets/controls",
            "_model_module_version": "1.5.0",
            "_model_name": "DescriptionStyleModel",
            "_view_count": null,
            "_view_module": "@jupyter-widgets/base",
            "_view_module_version": "1.2.0",
            "_view_name": "StyleView",
            "description_width": ""
          }
        },
        "dd75c82a6f7d45da9e3365c209dfaf43": {
          "model_module": "@jupyter-widgets/base",
          "model_name": "LayoutModel",
          "model_module_version": "1.2.0",
          "state": {
            "_model_module": "@jupyter-widgets/base",
            "_model_module_version": "1.2.0",
            "_model_name": "LayoutModel",
            "_view_count": null,
            "_view_module": "@jupyter-widgets/base",
            "_view_module_version": "1.2.0",
            "_view_name": "LayoutView",
            "align_content": null,
            "align_items": null,
            "align_self": null,
            "border": null,
            "bottom": null,
            "display": null,
            "flex": null,
            "flex_flow": null,
            "grid_area": null,
            "grid_auto_columns": null,
            "grid_auto_flow": null,
            "grid_auto_rows": null,
            "grid_column": null,
            "grid_gap": null,
            "grid_row": null,
            "grid_template_areas": null,
            "grid_template_columns": null,
            "grid_template_rows": null,
            "height": null,
            "justify_content": null,
            "justify_items": null,
            "left": null,
            "margin": null,
            "max_height": null,
            "max_width": null,
            "min_height": null,
            "min_width": null,
            "object_fit": null,
            "object_position": null,
            "order": null,
            "overflow": null,
            "overflow_x": null,
            "overflow_y": null,
            "padding": null,
            "right": null,
            "top": null,
            "visibility": null,
            "width": null
          }
        },
        "6fdba554f0034654975bd4dc9ecc463c": {
          "model_module": "@jupyter-widgets/controls",
          "model_name": "ProgressStyleModel",
          "model_module_version": "1.5.0",
          "state": {
            "_model_module": "@jupyter-widgets/controls",
            "_model_module_version": "1.5.0",
            "_model_name": "ProgressStyleModel",
            "_view_count": null,
            "_view_module": "@jupyter-widgets/base",
            "_view_module_version": "1.2.0",
            "_view_name": "StyleView",
            "bar_color": null,
            "description_width": ""
          }
        },
        "1274b6e404474ad6a4719d293c9de4e4": {
          "model_module": "@jupyter-widgets/base",
          "model_name": "LayoutModel",
          "model_module_version": "1.2.0",
          "state": {
            "_model_module": "@jupyter-widgets/base",
            "_model_module_version": "1.2.0",
            "_model_name": "LayoutModel",
            "_view_count": null,
            "_view_module": "@jupyter-widgets/base",
            "_view_module_version": "1.2.0",
            "_view_name": "LayoutView",
            "align_content": null,
            "align_items": null,
            "align_self": null,
            "border": null,
            "bottom": null,
            "display": null,
            "flex": null,
            "flex_flow": null,
            "grid_area": null,
            "grid_auto_columns": null,
            "grid_auto_flow": null,
            "grid_auto_rows": null,
            "grid_column": null,
            "grid_gap": null,
            "grid_row": null,
            "grid_template_areas": null,
            "grid_template_columns": null,
            "grid_template_rows": null,
            "height": null,
            "justify_content": null,
            "justify_items": null,
            "left": null,
            "margin": null,
            "max_height": null,
            "max_width": null,
            "min_height": null,
            "min_width": null,
            "object_fit": null,
            "object_position": null,
            "order": null,
            "overflow": null,
            "overflow_x": null,
            "overflow_y": null,
            "padding": null,
            "right": null,
            "top": null,
            "visibility": null,
            "width": null
          }
        },
        "1849becd8eb64a69aec7eef10b27f887": {
          "model_module": "@jupyter-widgets/controls",
          "model_name": "DescriptionStyleModel",
          "model_module_version": "1.5.0",
          "state": {
            "_model_module": "@jupyter-widgets/controls",
            "_model_module_version": "1.5.0",
            "_model_name": "DescriptionStyleModel",
            "_view_count": null,
            "_view_module": "@jupyter-widgets/base",
            "_view_module_version": "1.2.0",
            "_view_name": "StyleView",
            "description_width": ""
          }
        }
      }
    }
  },
  "nbformat": 4,
  "nbformat_minor": 0
}